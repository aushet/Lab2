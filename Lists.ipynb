{
 "cells": [
  {
   "cell_type": "markdown",
   "id": "53e161a8-f98b-4406-b566-75d3ff6b1029",
   "metadata": {},
   "source": [
    "Example1"
   ]
  },
  {
   "cell_type": "code",
   "execution_count": 2,
   "id": "f952ef15-fe83-44cd-8082-2449046c6492",
   "metadata": {},
   "outputs": [
    {
     "name": "stdout",
     "output_type": "stream",
     "text": [
      "['apple', 'banana', 'cherry']\n"
     ]
    }
   ],
   "source": [
    "thislist = [\"apple\", \"banana\", \"cherry\"]\n",
    "print(thislist)"
   ]
  },
  {
   "cell_type": "markdown",
   "id": "5a849f13-b4a9-4cf6-b3dd-814c008f0205",
   "metadata": {},
   "source": [
    "Example2"
   ]
  },
  {
   "cell_type": "code",
   "execution_count": 5,
   "id": "b6d1505a-1f13-4f7f-bf7d-0d7e86a681a2",
   "metadata": {},
   "outputs": [
    {
     "name": "stdout",
     "output_type": "stream",
     "text": [
      "['apple', 'banana', 'cherry', 'apple', 'cherry']\n"
     ]
    }
   ],
   "source": [
    "thislist = [\"apple\", \"banana\", \"cherry\", \"apple\", \"cherry\"]\n",
    "print(thislist)"
   ]
  },
  {
   "cell_type": "markdown",
   "id": "d2871ce7-310c-46a7-9b05-92c09647e15c",
   "metadata": {},
   "source": [
    "Example3"
   ]
  },
  {
   "cell_type": "code",
   "execution_count": 9,
   "id": "35c00e65-8e93-4e00-87e8-05728542e968",
   "metadata": {},
   "outputs": [
    {
     "name": "stdout",
     "output_type": "stream",
     "text": [
      "3\n"
     ]
    }
   ],
   "source": [
    "thislist = [\"apple\", \"banana\", \"cherry\"]\n",
    "print(len(thislist))"
   ]
  },
  {
   "cell_type": "markdown",
   "id": "952386cb-1e44-46a7-81e3-e9d5c7f9c0b4",
   "metadata": {},
   "source": [
    "Example4"
   ]
  },
  {
   "cell_type": "code",
   "execution_count": 17,
   "id": "d19d789c-935f-47d1-8918-1efabf78d9ce",
   "metadata": {},
   "outputs": [],
   "source": [
    "list1 = [\"apple\", \"banana\", \"cherry\"]\n",
    "list2 = [1, 5, 7, 9, 3]\n",
    "list3 = [True, False, False]"
   ]
  },
  {
   "cell_type": "markdown",
   "id": "9eb80dde-7c69-4083-8aee-a8b6b5273311",
   "metadata": {},
   "source": [
    "Example5"
   ]
  },
  {
   "cell_type": "code",
   "execution_count": 20,
   "id": "e7f56c15-3d21-4a13-bc71-3a811ac80cbf",
   "metadata": {},
   "outputs": [],
   "source": [
    "list1 = [\"abc\", 34, True, 40, \"male\"]"
   ]
  },
  {
   "cell_type": "markdown",
   "id": "74b20091-276a-4d96-ae97-3e44d4ed53fc",
   "metadata": {},
   "source": [
    "Example6"
   ]
  },
  {
   "cell_type": "code",
   "execution_count": 23,
   "id": "c1063dbe-1277-46e3-85c5-bf4f5c760d78",
   "metadata": {},
   "outputs": [
    {
     "name": "stdout",
     "output_type": "stream",
     "text": [
      "<class 'list'>\n"
     ]
    }
   ],
   "source": [
    "mylist = [\"apple\", \"banana\", \"cherry\"]\n",
    "print(type(mylist))"
   ]
  },
  {
   "cell_type": "markdown",
   "id": "1a544944-2f70-44cb-91a7-ec73f6e97293",
   "metadata": {},
   "source": [
    "Example7"
   ]
  },
  {
   "cell_type": "code",
   "execution_count": 26,
   "id": "421a01e2-dbde-4f28-a23d-cae9675b2353",
   "metadata": {},
   "outputs": [
    {
     "name": "stdout",
     "output_type": "stream",
     "text": [
      "['apple', 'banana', 'cherry']\n"
     ]
    }
   ],
   "source": [
    "thislist = list((\"apple\", \"banana\", \"cherry\")) # note the double round-brackets\n",
    "print(thislist)"
   ]
  },
  {
   "cell_type": "markdown",
   "id": "c01de895-33c5-48ba-8671-2084d2034a2d",
   "metadata": {},
   "source": [
    "Example8"
   ]
  },
  {
   "cell_type": "code",
   "execution_count": 29,
   "id": "3e6ce4d0-c008-451d-b16e-58afa403a9b9",
   "metadata": {},
   "outputs": [
    {
     "name": "stdout",
     "output_type": "stream",
     "text": [
      "banana\n"
     ]
    }
   ],
   "source": [
    "thislist = [\"apple\", \"banana\", \"cherry\"]\n",
    "print(thislist[1])"
   ]
  },
  {
   "cell_type": "markdown",
   "id": "6e697655-ce24-477b-934b-50976e93cd0e",
   "metadata": {},
   "source": [
    "Example9"
   ]
  },
  {
   "cell_type": "code",
   "execution_count": 32,
   "id": "b5967794-0d44-48ef-82db-e6d3f371ba63",
   "metadata": {},
   "outputs": [
    {
     "name": "stdout",
     "output_type": "stream",
     "text": [
      "cherry\n"
     ]
    }
   ],
   "source": [
    "thislist = [\"apple\", \"banana\", \"cherry\"]\n",
    "print(thislist[-1])"
   ]
  },
  {
   "cell_type": "markdown",
   "id": "8d4d10e5-0d53-4fe3-9961-d9cd44a827d2",
   "metadata": {},
   "source": [
    "Example10"
   ]
  },
  {
   "cell_type": "code",
   "execution_count": 35,
   "id": "bb0528b9-3479-4b5b-acd3-d767eb4520c5",
   "metadata": {},
   "outputs": [
    {
     "name": "stdout",
     "output_type": "stream",
     "text": [
      "['cherry', 'orange', 'kiwi']\n"
     ]
    }
   ],
   "source": [
    "thislist = [\"apple\", \"banana\", \"cherry\", \"orange\", \"kiwi\", \"melon\", \"mango\"]\n",
    "print(thislist[2:5])"
   ]
  },
  {
   "cell_type": "markdown",
   "id": "926de0ba-dcd4-4c88-8341-7c52de4399f2",
   "metadata": {},
   "source": [
    "Example11"
   ]
  },
  {
   "cell_type": "code",
   "execution_count": 38,
   "id": "12d697c9-7e2e-4be9-b1fa-048c41e02b13",
   "metadata": {},
   "outputs": [
    {
     "name": "stdout",
     "output_type": "stream",
     "text": [
      "['apple', 'banana', 'cherry', 'orange']\n"
     ]
    }
   ],
   "source": [
    "thislist = [\"apple\", \"banana\", \"cherry\", \"orange\", \"kiwi\", \"melon\", \"mango\"]\n",
    "print(thislist[:4])"
   ]
  },
  {
   "cell_type": "markdown",
   "id": "5362fc9c-4cc5-4832-a485-6aab92108713",
   "metadata": {},
   "source": [
    "Example12"
   ]
  },
  {
   "cell_type": "code",
   "execution_count": 41,
   "id": "dcb158d8-8315-46ce-9323-d1cc65e0a13a",
   "metadata": {},
   "outputs": [
    {
     "name": "stdout",
     "output_type": "stream",
     "text": [
      "['cherry', 'orange', 'kiwi', 'melon', 'mango']\n"
     ]
    }
   ],
   "source": [
    "thislist = [\"apple\", \"banana\", \"cherry\", \"orange\", \"kiwi\", \"melon\", \"mango\"]\n",
    "print(thislist[2:])"
   ]
  },
  {
   "cell_type": "markdown",
   "id": "87b97511-093f-4a6d-85c2-d0855f03183d",
   "metadata": {},
   "source": [
    "Example13"
   ]
  },
  {
   "cell_type": "code",
   "execution_count": 45,
   "id": "03d7d743-c51e-4eae-87c9-35475bb140b1",
   "metadata": {},
   "outputs": [
    {
     "name": "stdout",
     "output_type": "stream",
     "text": [
      "['orange', 'kiwi', 'melon']\n"
     ]
    }
   ],
   "source": [
    "thislist = [\"apple\", \"banana\", \"cherry\", \"orange\", \"kiwi\", \"melon\", \"mango\"]\n",
    "print(thislist[-4:-1])"
   ]
  },
  {
   "cell_type": "markdown",
   "id": "91841f68-3168-4d70-aec9-09860d5779d7",
   "metadata": {},
   "source": [
    "Example14"
   ]
  },
  {
   "cell_type": "code",
   "execution_count": 49,
   "id": "ba650410-a0d6-443c-9488-83402f49105a",
   "metadata": {},
   "outputs": [
    {
     "name": "stdout",
     "output_type": "stream",
     "text": [
      "Yes, 'apple' is in the fruits list\n"
     ]
    }
   ],
   "source": [
    "thislist = [\"apple\", \"banana\", \"cherry\"]\n",
    "if \"apple\" in thislist:\n",
    "  print(\"Yes, 'apple' is in the fruits list\")"
   ]
  },
  {
   "cell_type": "markdown",
   "id": "f0bed99e-3bff-4809-98e1-8932feb88c47",
   "metadata": {},
   "source": [
    "Example15"
   ]
  },
  {
   "cell_type": "code",
   "execution_count": 52,
   "id": "c333c653-7800-4265-b988-25cd2d1e8779",
   "metadata": {},
   "outputs": [
    {
     "name": "stdout",
     "output_type": "stream",
     "text": [
      "['apple', 'blackcurrant', 'cherry']\n"
     ]
    }
   ],
   "source": [
    "thislist = [\"apple\", \"banana\", \"cherry\"]\n",
    "thislist[1] = \"blackcurrant\"\n",
    "print(thislist)"
   ]
  },
  {
   "cell_type": "markdown",
   "id": "90610441-8784-4876-bf83-f817dabdb2d2",
   "metadata": {},
   "source": [
    "Example16"
   ]
  },
  {
   "cell_type": "code",
   "execution_count": 55,
   "id": "20293a8b-9db3-4d1a-baac-f370780aeaaf",
   "metadata": {},
   "outputs": [
    {
     "name": "stdout",
     "output_type": "stream",
     "text": [
      "['apple', 'blackcurrant', 'watermelon', 'orange', 'kiwi', 'mango']\n"
     ]
    }
   ],
   "source": [
    "thislist = [\"apple\", \"banana\", \"cherry\", \"orange\", \"kiwi\", \"mango\"]\n",
    "thislist[1:3] = [\"blackcurrant\", \"watermelon\"]\n",
    "print(thislist)"
   ]
  },
  {
   "cell_type": "markdown",
   "id": "8bb270be-612e-4444-b049-7cf35e7eb633",
   "metadata": {},
   "source": [
    "Example17"
   ]
  },
  {
   "cell_type": "code",
   "execution_count": 58,
   "id": "636c791f-349e-43b1-ba5e-8bcaf7a38130",
   "metadata": {},
   "outputs": [
    {
     "name": "stdout",
     "output_type": "stream",
     "text": [
      "['apple', 'blackcurrant', 'watermelon', 'cherry']\n"
     ]
    }
   ],
   "source": [
    "thislist = [\"apple\", \"banana\", \"cherry\"]\n",
    "thislist[1:2] = [\"blackcurrant\", \"watermelon\"]\n",
    "print(thislist)"
   ]
  },
  {
   "cell_type": "markdown",
   "id": "88aa274d-22cc-4be4-83f5-6dbc32a211e3",
   "metadata": {},
   "source": [
    "Example18"
   ]
  },
  {
   "cell_type": "code",
   "execution_count": 61,
   "id": "6ccf36c2-ac26-4373-904c-32f717657a8a",
   "metadata": {},
   "outputs": [
    {
     "name": "stdout",
     "output_type": "stream",
     "text": [
      "['apple', 'watermelon']\n"
     ]
    }
   ],
   "source": [
    "thislist = [\"apple\", \"banana\", \"cherry\"]\n",
    "thislist[1:3] = [\"watermelon\"]\n",
    "print(thislist)"
   ]
  },
  {
   "cell_type": "markdown",
   "id": "9599f58a-d55f-46ad-bb7e-4d71a6bec5a2",
   "metadata": {},
   "source": [
    "Example19"
   ]
  },
  {
   "cell_type": "code",
   "execution_count": 64,
   "id": "9592a0ab-7777-4034-8148-6624ce4b42b2",
   "metadata": {},
   "outputs": [
    {
     "name": "stdout",
     "output_type": "stream",
     "text": [
      "['apple', 'banana', 'watermelon', 'cherry']\n"
     ]
    }
   ],
   "source": [
    "thislist = [\"apple\", \"banana\", \"cherry\"]\n",
    "thislist.insert(2, \"watermelon\")\n",
    "print(thislist)"
   ]
  },
  {
   "cell_type": "markdown",
   "id": "bfc58cf7-76c1-446f-acf5-6a8bba15c2d0",
   "metadata": {},
   "source": [
    "Example20"
   ]
  },
  {
   "cell_type": "code",
   "execution_count": 67,
   "id": "47ab7de5-4ecf-4730-a73d-8bd7e1a80836",
   "metadata": {},
   "outputs": [
    {
     "name": "stdout",
     "output_type": "stream",
     "text": [
      "['apple', 'banana', 'cherry', 'orange']\n"
     ]
    }
   ],
   "source": [
    "thislist = [\"apple\", \"banana\", \"cherry\"]\n",
    "thislist.append(\"orange\")\n",
    "print(thislist)"
   ]
  },
  {
   "cell_type": "markdown",
   "id": "5f1fb742-130f-4e0a-bea1-be15e90def6f",
   "metadata": {},
   "source": [
    "Example21"
   ]
  },
  {
   "cell_type": "code",
   "execution_count": 70,
   "id": "7385b554-cedd-45ef-8052-ba58ddfcb62e",
   "metadata": {},
   "outputs": [
    {
     "name": "stdout",
     "output_type": "stream",
     "text": [
      "['apple', 'orange', 'banana', 'cherry']\n"
     ]
    }
   ],
   "source": [
    "thislist = [\"apple\", \"banana\", \"cherry\"]\n",
    "thislist.insert(1, \"orange\")\n",
    "print(thislist)"
   ]
  },
  {
   "cell_type": "markdown",
   "id": "d80e8398-d243-4291-9b3d-f9c16ea906be",
   "metadata": {},
   "source": [
    "Example22"
   ]
  },
  {
   "cell_type": "code",
   "execution_count": 73,
   "id": "fe8442e0-cef5-4ac8-a706-8ab95f13977b",
   "metadata": {},
   "outputs": [
    {
     "name": "stdout",
     "output_type": "stream",
     "text": [
      "['apple', 'banana', 'cherry', 'mango', 'pineapple', 'papaya']\n"
     ]
    }
   ],
   "source": [
    "thislist = [\"apple\", \"banana\", \"cherry\"]\n",
    "tropical = [\"mango\", \"pineapple\", \"papaya\"]\n",
    "thislist.extend(tropical)\n",
    "print(thislist)"
   ]
  },
  {
   "cell_type": "markdown",
   "id": "001056e2-f875-4050-9404-f5c2d0818067",
   "metadata": {},
   "source": [
    "Example23"
   ]
  },
  {
   "cell_type": "code",
   "execution_count": 76,
   "id": "8f94f5f4-f459-429f-b4e9-0da1975346a4",
   "metadata": {},
   "outputs": [
    {
     "name": "stdout",
     "output_type": "stream",
     "text": [
      "['apple', 'banana', 'cherry', 'kiwi', 'orange']\n"
     ]
    }
   ],
   "source": [
    "thislist = [\"apple\", \"banana\", \"cherry\"]\n",
    "thistuple = (\"kiwi\", \"orange\")\n",
    "thislist.extend(thistuple)\n",
    "print(thislist)"
   ]
  },
  {
   "cell_type": "markdown",
   "id": "833a4b73-0eb3-49b4-8809-ccd43779bdc4",
   "metadata": {},
   "source": [
    "Example24"
   ]
  },
  {
   "cell_type": "code",
   "execution_count": 79,
   "id": "c43b5ec6-430f-49f6-a961-1f40050b76b7",
   "metadata": {},
   "outputs": [
    {
     "name": "stdout",
     "output_type": "stream",
     "text": [
      "['apple', 'cherry']\n"
     ]
    }
   ],
   "source": [
    "thislist = [\"apple\", \"banana\", \"cherry\"]\n",
    "thislist.remove(\"banana\")\n",
    "print(thislist)"
   ]
  },
  {
   "cell_type": "markdown",
   "id": "ca58cf39-56a9-4986-83aa-42bed81f73db",
   "metadata": {},
   "source": [
    "Example25"
   ]
  },
  {
   "cell_type": "code",
   "execution_count": 82,
   "id": "dfc1ca62-4123-4a77-9fc3-89155bfc51e5",
   "metadata": {},
   "outputs": [
    {
     "name": "stdout",
     "output_type": "stream",
     "text": [
      "['apple', 'cherry', 'banana', 'kiwi']\n"
     ]
    }
   ],
   "source": [
    "thislist = [\"apple\", \"banana\", \"cherry\", \"banana\", \"kiwi\"]\n",
    "thislist.remove(\"banana\")\n",
    "print(thislist)"
   ]
  },
  {
   "cell_type": "markdown",
   "id": "20ec54d8-2ba5-4d97-ade7-b09ae6a4fdc7",
   "metadata": {},
   "source": [
    "Example26"
   ]
  },
  {
   "cell_type": "code",
   "execution_count": 85,
   "id": "beec1871-a98c-4253-8f91-8da7b9e00d4b",
   "metadata": {},
   "outputs": [
    {
     "name": "stdout",
     "output_type": "stream",
     "text": [
      "['apple', 'cherry']\n"
     ]
    }
   ],
   "source": [
    "thislist = [\"apple\", \"banana\", \"cherry\"]\n",
    "thislist.pop(1)\n",
    "print(thislist)"
   ]
  },
  {
   "cell_type": "markdown",
   "id": "0e0b22b4-261e-4f4c-9c2a-ec1419bc9e51",
   "metadata": {},
   "source": [
    "Example27"
   ]
  },
  {
   "cell_type": "code",
   "execution_count": 88,
   "id": "e010ecf5-98f7-416d-a075-2f96bc0db780",
   "metadata": {},
   "outputs": [
    {
     "name": "stdout",
     "output_type": "stream",
     "text": [
      "['apple', 'banana']\n"
     ]
    }
   ],
   "source": [
    "thislist = [\"apple\", \"banana\", \"cherry\"]\n",
    "thislist.pop()\n",
    "print(thislist)"
   ]
  },
  {
   "cell_type": "markdown",
   "id": "2528a179-b7a6-4dc7-9a0f-f9763e6228e3",
   "metadata": {},
   "source": [
    "Example28"
   ]
  },
  {
   "cell_type": "code",
   "execution_count": 91,
   "id": "83c935ff-edcf-4dbc-8d08-92503ee52bc4",
   "metadata": {},
   "outputs": [
    {
     "name": "stdout",
     "output_type": "stream",
     "text": [
      "['banana', 'cherry']\n"
     ]
    }
   ],
   "source": [
    "thislist = [\"apple\", \"banana\", \"cherry\"]\n",
    "del thislist[0]\n",
    "print(thislist)"
   ]
  },
  {
   "cell_type": "markdown",
   "id": "0c3134b9-5eb9-4fe6-a22c-6a947c0419fa",
   "metadata": {},
   "source": [
    "Example29"
   ]
  },
  {
   "cell_type": "code",
   "execution_count": 94,
   "id": "223f8ae1-104b-40f7-a6c7-a0ea8a869a8d",
   "metadata": {},
   "outputs": [],
   "source": [
    "thislist = [\"apple\", \"banana\", \"cherry\"]\n",
    "del thislist"
   ]
  },
  {
   "cell_type": "markdown",
   "id": "1a94519f-d797-4da7-a8dd-bfa28ce04d50",
   "metadata": {},
   "source": [
    "Example30"
   ]
  },
  {
   "cell_type": "code",
   "execution_count": 97,
   "id": "3be9c31e-ea1f-4f91-8a4b-c35d696921a5",
   "metadata": {},
   "outputs": [
    {
     "name": "stdout",
     "output_type": "stream",
     "text": [
      "[]\n"
     ]
    }
   ],
   "source": [
    "thislist = [\"apple\", \"banana\", \"cherry\"]\n",
    "thislist.clear()\n",
    "print(thislist)"
   ]
  },
  {
   "cell_type": "markdown",
   "id": "5a1135d3-e81c-4a92-a668-be5a4cdb4328",
   "metadata": {},
   "source": [
    "Example31"
   ]
  },
  {
   "cell_type": "code",
   "execution_count": 100,
   "id": "80f36be6-0e0a-4995-ac46-bef077f6a676",
   "metadata": {},
   "outputs": [
    {
     "name": "stdout",
     "output_type": "stream",
     "text": [
      "apple\n",
      "banana\n",
      "cherry\n"
     ]
    }
   ],
   "source": [
    "thislist = [\"apple\", \"banana\", \"cherry\"]\n",
    "for x in thislist:\n",
    "  print(x)"
   ]
  },
  {
   "cell_type": "markdown",
   "id": "57e6592a-e6fd-4ccf-89c2-baf02df6ab29",
   "metadata": {},
   "source": [
    "Example32"
   ]
  },
  {
   "cell_type": "code",
   "execution_count": 103,
   "id": "00a206a2-b492-488c-a294-c98662a242e8",
   "metadata": {},
   "outputs": [
    {
     "name": "stdout",
     "output_type": "stream",
     "text": [
      "apple\n",
      "banana\n",
      "cherry\n"
     ]
    }
   ],
   "source": [
    "thislist = [\"apple\", \"banana\", \"cherry\"]\n",
    "for i in range(len(thislist)):\n",
    "  print(thislist[i])"
   ]
  },
  {
   "cell_type": "markdown",
   "id": "2362fdee-44b1-4428-8011-28debdf40812",
   "metadata": {},
   "source": [
    "Example33"
   ]
  },
  {
   "cell_type": "code",
   "execution_count": 106,
   "id": "1e18120d-cc53-4468-80c1-41a3a97b6063",
   "metadata": {},
   "outputs": [
    {
     "name": "stdout",
     "output_type": "stream",
     "text": [
      "apple\n",
      "banana\n",
      "cherry\n"
     ]
    }
   ],
   "source": [
    "thislist = [\"apple\", \"banana\", \"cherry\"]\n",
    "i = 0\n",
    "while i < len(thislist):\n",
    "  print(thislist[i])\n",
    "  i = i + 1"
   ]
  },
  {
   "cell_type": "markdown",
   "id": "7ec10de9-9402-4122-8f42-5dd821631db0",
   "metadata": {},
   "source": [
    "Example34"
   ]
  },
  {
   "cell_type": "code",
   "execution_count": 109,
   "id": "a12d9e98-27a1-4af5-bf65-d7a4744ba38f",
   "metadata": {},
   "outputs": [
    {
     "name": "stdout",
     "output_type": "stream",
     "text": [
      "apple\n",
      "banana\n",
      "cherry\n"
     ]
    },
    {
     "data": {
      "text/plain": [
       "[None, None, None]"
      ]
     },
     "execution_count": 109,
     "metadata": {},
     "output_type": "execute_result"
    }
   ],
   "source": [
    "thislist = [\"apple\", \"banana\", \"cherry\"]\n",
    "[print(x) for x in thislist]"
   ]
  },
  {
   "cell_type": "markdown",
   "id": "8f00a38d-f960-4501-a59e-85d2bdc63326",
   "metadata": {},
   "source": [
    "Example35"
   ]
  },
  {
   "cell_type": "code",
   "execution_count": 112,
   "id": "9cdfb002-82ef-46aa-8ceb-8c27d8111434",
   "metadata": {},
   "outputs": [
    {
     "name": "stdout",
     "output_type": "stream",
     "text": [
      "['apple', 'banana', 'mango']\n"
     ]
    }
   ],
   "source": [
    "fruits = [\"apple\", \"banana\", \"cherry\", \"kiwi\", \"mango\"]\n",
    "newlist = []\n",
    "\n",
    "for x in fruits:\n",
    "  if \"a\" in x:\n",
    "    newlist.append(x)\n",
    "\n",
    "print(newlist)"
   ]
  },
  {
   "cell_type": "markdown",
   "id": "589e0f10-05c3-4dee-adc3-e91eecaccc0b",
   "metadata": {},
   "source": [
    "Example36"
   ]
  },
  {
   "cell_type": "code",
   "execution_count": 115,
   "id": "21bad0ca-1a88-4522-9e00-ed5a643dd36c",
   "metadata": {},
   "outputs": [
    {
     "name": "stdout",
     "output_type": "stream",
     "text": [
      "['apple', 'banana', 'mango']\n"
     ]
    }
   ],
   "source": [
    "fruits = [\"apple\", \"banana\", \"cherry\", \"kiwi\", \"mango\"]\n",
    "\n",
    "newlist = [x for x in fruits if \"a\" in x]\n",
    "\n",
    "print(newlist)"
   ]
  },
  {
   "cell_type": "markdown",
   "id": "f7ce8288-30de-4b03-9272-79cb86514389",
   "metadata": {},
   "source": [
    "Example37"
   ]
  },
  {
   "cell_type": "code",
   "execution_count": 118,
   "id": "109bf22c-a109-4074-8db9-575d67ae753a",
   "metadata": {},
   "outputs": [],
   "source": [
    "newlist = [x for x in fruits if x != \"apple\"]"
   ]
  },
  {
   "cell_type": "markdown",
   "id": "f5695411-67b3-4e96-8b46-c3b136c59558",
   "metadata": {},
   "source": [
    "Example38"
   ]
  },
  {
   "cell_type": "code",
   "execution_count": 121,
   "id": "9755f254-1427-499b-a0ae-815efdcbec50",
   "metadata": {},
   "outputs": [],
   "source": [
    "newlist = [x for x in fruits]"
   ]
  },
  {
   "cell_type": "markdown",
   "id": "0f343e85-3978-4d14-8aa3-fd5be422db87",
   "metadata": {},
   "source": [
    "Example39"
   ]
  },
  {
   "cell_type": "code",
   "execution_count": 124,
   "id": "8f930385-d36a-4483-b04f-169ef12aaec9",
   "metadata": {},
   "outputs": [],
   "source": [
    "newlist = [x for x in range(10)]"
   ]
  },
  {
   "cell_type": "markdown",
   "id": "4a8a7b33-89db-4390-8e43-0529f7a81064",
   "metadata": {},
   "source": [
    "Example40"
   ]
  },
  {
   "cell_type": "code",
   "execution_count": 127,
   "id": "a6802d02-fbc6-4f0e-9e81-98d39a591efb",
   "metadata": {},
   "outputs": [],
   "source": [
    "newlist = [x for x in range(10) if x < 5]"
   ]
  },
  {
   "cell_type": "markdown",
   "id": "28ed931c-74c8-404a-8510-b6b82e65e75f",
   "metadata": {},
   "source": [
    "Example41"
   ]
  },
  {
   "cell_type": "code",
   "execution_count": 130,
   "id": "6b838ae9-32b1-4f39-9fcb-3d898f43da27",
   "metadata": {},
   "outputs": [],
   "source": [
    "newlist = [x.upper() for x in fruits]"
   ]
  },
  {
   "cell_type": "markdown",
   "id": "e5e7d842-ff7f-4109-afae-738b3438a30d",
   "metadata": {},
   "source": [
    "Example42"
   ]
  },
  {
   "cell_type": "code",
   "execution_count": 133,
   "id": "d9859b36-80ae-4f29-99c2-44879e5b65bd",
   "metadata": {},
   "outputs": [],
   "source": [
    "newlist = ['hello' for x in fruits]"
   ]
  },
  {
   "cell_type": "markdown",
   "id": "1c1d74d4-c650-4315-8bbf-4ec1135bcea4",
   "metadata": {},
   "source": [
    "Example43"
   ]
  },
  {
   "cell_type": "code",
   "execution_count": 137,
   "id": "b1ab33a7-951b-4084-a2ed-347b3316f653",
   "metadata": {},
   "outputs": [],
   "source": [
    "newlist = [x if x != \"banana\" else \"orange\" for x in fruits]"
   ]
  },
  {
   "cell_type": "markdown",
   "id": "b9fa0d3e-463d-4655-ba04-8ca51cb9fc54",
   "metadata": {},
   "source": [
    "Example44"
   ]
  },
  {
   "cell_type": "code",
   "execution_count": 140,
   "id": "140eff7a-50c8-4f4d-80e9-6428f4bb31d2",
   "metadata": {},
   "outputs": [
    {
     "name": "stdout",
     "output_type": "stream",
     "text": [
      "['banana', 'kiwi', 'mango', 'orange', 'pineapple']\n"
     ]
    }
   ],
   "source": [
    "thislist = [\"orange\", \"mango\", \"kiwi\", \"pineapple\", \"banana\"]\n",
    "thislist.sort()\n",
    "print(thislist)"
   ]
  },
  {
   "cell_type": "markdown",
   "id": "538a3a3b-63fe-4551-86df-73c705182cf1",
   "metadata": {},
   "source": [
    "Example45"
   ]
  },
  {
   "cell_type": "code",
   "execution_count": 143,
   "id": "c9579197-38fc-4d07-a5d5-92e8cb68af74",
   "metadata": {},
   "outputs": [
    {
     "name": "stdout",
     "output_type": "stream",
     "text": [
      "[23, 50, 65, 82, 100]\n"
     ]
    }
   ],
   "source": [
    "thislist = [100, 50, 65, 82, 23]\n",
    "thislist.sort()\n",
    "print(thislist)"
   ]
  },
  {
   "cell_type": "markdown",
   "id": "36c570a5-8e20-4359-a635-c4722c910c0b",
   "metadata": {},
   "source": [
    "Example46"
   ]
  },
  {
   "cell_type": "code",
   "execution_count": 146,
   "id": "ee3d0216-e51c-4120-86cb-30a697ed1c18",
   "metadata": {},
   "outputs": [
    {
     "name": "stdout",
     "output_type": "stream",
     "text": [
      "['pineapple', 'orange', 'mango', 'kiwi', 'banana']\n"
     ]
    }
   ],
   "source": [
    "thislist = [\"orange\", \"mango\", \"kiwi\", \"pineapple\", \"banana\"]\n",
    "thislist.sort(reverse = True)\n",
    "print(thislist)"
   ]
  },
  {
   "cell_type": "markdown",
   "id": "563d97f5-7ffd-4d87-9ab8-7258086f495d",
   "metadata": {},
   "source": [
    "Example47"
   ]
  },
  {
   "cell_type": "code",
   "execution_count": 149,
   "id": "2ac78a35-12c9-4ccd-beec-6716e577daed",
   "metadata": {},
   "outputs": [
    {
     "name": "stdout",
     "output_type": "stream",
     "text": [
      "[100, 82, 65, 50, 23]\n"
     ]
    }
   ],
   "source": [
    "thislist = [100, 50, 65, 82, 23]\n",
    "thislist.sort(reverse = True)\n",
    "print(thislist)"
   ]
  },
  {
   "cell_type": "markdown",
   "id": "c13a524a-c307-43c0-a2be-b83ad9ba9f02",
   "metadata": {},
   "source": [
    "Example48"
   ]
  },
  {
   "cell_type": "code",
   "execution_count": 152,
   "id": "78fa6ee2-dac9-406a-b8f2-c9ec98d2b75a",
   "metadata": {},
   "outputs": [
    {
     "name": "stdout",
     "output_type": "stream",
     "text": [
      "[50, 65, 23, 82, 100]\n"
     ]
    }
   ],
   "source": [
    "def myfunc(n):\n",
    "  return abs(n - 50)\n",
    "\n",
    "thislist = [100, 50, 65, 82, 23]\n",
    "thislist.sort(key = myfunc)\n",
    "print(thislist)"
   ]
  },
  {
   "cell_type": "markdown",
   "id": "3a1f44b5-f1e6-4c6c-a5ac-ea5c365d272d",
   "metadata": {},
   "source": [
    "Example49"
   ]
  },
  {
   "cell_type": "code",
   "execution_count": 155,
   "id": "cdacd1bb-d2f6-4404-a1af-3134fdaf2d73",
   "metadata": {},
   "outputs": [
    {
     "name": "stdout",
     "output_type": "stream",
     "text": [
      "['Kiwi', 'Orange', 'banana', 'cherry']\n"
     ]
    }
   ],
   "source": [
    "thislist = [\"banana\", \"Orange\", \"Kiwi\", \"cherry\"]\n",
    "thislist.sort()\n",
    "print(thislist)"
   ]
  },
  {
   "cell_type": "markdown",
   "id": "dce1c6a5-2b48-4c69-800f-2f180ff188a6",
   "metadata": {},
   "source": [
    "Example50"
   ]
  },
  {
   "cell_type": "code",
   "execution_count": 158,
   "id": "d52d7e88-3b35-41fe-9889-7c4d6941dd83",
   "metadata": {},
   "outputs": [
    {
     "name": "stdout",
     "output_type": "stream",
     "text": [
      "['banana', 'cherry', 'Kiwi', 'Orange']\n"
     ]
    }
   ],
   "source": [
    "thislist = [\"banana\", \"Orange\", \"Kiwi\", \"cherry\"]\n",
    "thislist.sort(key = str.lower)\n",
    "print(thislist)"
   ]
  },
  {
   "cell_type": "markdown",
   "id": "60c5bcab-a7f1-4686-ba15-dc45041095dc",
   "metadata": {},
   "source": [
    "Example51"
   ]
  },
  {
   "cell_type": "code",
   "execution_count": 161,
   "id": "0786dcdc-93bd-4145-beb9-d6644e82c71d",
   "metadata": {},
   "outputs": [
    {
     "name": "stdout",
     "output_type": "stream",
     "text": [
      "['cherry', 'Kiwi', 'Orange', 'banana']\n"
     ]
    }
   ],
   "source": [
    "thislist = [\"banana\", \"Orange\", \"Kiwi\", \"cherry\"]\n",
    "thislist.reverse()\n",
    "print(thislist)"
   ]
  },
  {
   "cell_type": "markdown",
   "id": "0775f87a-02ba-40b6-82bd-1ab53164077f",
   "metadata": {},
   "source": [
    "Example52"
   ]
  },
  {
   "cell_type": "code",
   "execution_count": 164,
   "id": "f7960a79-ce08-496f-aeee-912c7e39511f",
   "metadata": {},
   "outputs": [
    {
     "name": "stdout",
     "output_type": "stream",
     "text": [
      "['apple', 'banana', 'cherry']\n"
     ]
    }
   ],
   "source": [
    "thislist = [\"apple\", \"banana\", \"cherry\"]\n",
    "mylist = thislist.copy()\n",
    "print(mylist)"
   ]
  },
  {
   "cell_type": "markdown",
   "id": "c4fbe872-08ac-4eb0-aeb1-082ee3737b43",
   "metadata": {},
   "source": [
    "Example53"
   ]
  },
  {
   "cell_type": "code",
   "execution_count": 167,
   "id": "44d22967-03fc-4bcd-b44d-458630e547ed",
   "metadata": {},
   "outputs": [
    {
     "name": "stdout",
     "output_type": "stream",
     "text": [
      "['apple', 'banana', 'cherry']\n"
     ]
    }
   ],
   "source": [
    "thislist = [\"apple\", \"banana\", \"cherry\"]\n",
    "mylist = list(thislist)\n",
    "print(mylist)"
   ]
  },
  {
   "cell_type": "markdown",
   "id": "1d1d4408-1f02-4fd4-94f5-f63a73daede0",
   "metadata": {},
   "source": [
    "Example54"
   ]
  },
  {
   "cell_type": "code",
   "execution_count": 170,
   "id": "ebffc3f8-c316-495e-bee8-2090d9ea55e8",
   "metadata": {},
   "outputs": [
    {
     "name": "stdout",
     "output_type": "stream",
     "text": [
      "['apple', 'banana', 'cherry']\n"
     ]
    }
   ],
   "source": [
    "thislist = [\"apple\", \"banana\", \"cherry\"]\n",
    "mylist = thislist[:]\n",
    "print(mylist)"
   ]
  },
  {
   "cell_type": "markdown",
   "id": "415e06bf-5640-41f6-a705-f4d29a1f8ae6",
   "metadata": {},
   "source": [
    "Example55"
   ]
  },
  {
   "cell_type": "code",
   "execution_count": 173,
   "id": "ee7a17c2-705b-4981-bbbc-f49eacc125f7",
   "metadata": {},
   "outputs": [
    {
     "name": "stdout",
     "output_type": "stream",
     "text": [
      "['a', 'b', 'c', 1, 2, 3]\n"
     ]
    }
   ],
   "source": [
    "list1 = [\"a\", \"b\", \"c\"]\n",
    "list2 = [1, 2, 3]\n",
    "\n",
    "list3 = list1 + list2\n",
    "print(list3)"
   ]
  },
  {
   "cell_type": "markdown",
   "id": "79e85cc3-361d-4bad-bd5b-5d191af22f54",
   "metadata": {},
   "source": [
    "Example56"
   ]
  },
  {
   "cell_type": "code",
   "execution_count": 176,
   "id": "7c835781-1d43-43dd-a57a-f922a90d70d7",
   "metadata": {},
   "outputs": [
    {
     "name": "stdout",
     "output_type": "stream",
     "text": [
      "['a', 'b', 'c', 1, 2, 3]\n"
     ]
    }
   ],
   "source": [
    "list1 = [\"a\", \"b\" , \"c\"]\n",
    "list2 = [1, 2, 3]\n",
    "\n",
    "for x in list2:\n",
    "  list1.append(x)\n",
    "\n",
    "print(list1)"
   ]
  },
  {
   "cell_type": "markdown",
   "id": "f4d84664-c192-46a0-9dc1-f8946b8505be",
   "metadata": {},
   "source": [
    "Example57"
   ]
  },
  {
   "cell_type": "code",
   "execution_count": 180,
   "id": "6f3b0e3d-4451-4779-b18c-a8fa2b59b6d4",
   "metadata": {},
   "outputs": [
    {
     "name": "stdout",
     "output_type": "stream",
     "text": [
      "['a', 'b', 'c', 1, 2, 3]\n"
     ]
    }
   ],
   "source": [
    "list1 = [\"a\", \"b\" , \"c\"]\n",
    "list2 = [1, 2, 3]\n",
    "\n",
    "list1.extend(list2)\n",
    "print(list1)"
   ]
  },
  {
   "cell_type": "code",
   "execution_count": null,
   "id": "664347f1-9857-45ff-8c24-d6187b1de93a",
   "metadata": {},
   "outputs": [],
   "source": []
  }
 ],
 "metadata": {
  "kernelspec": {
   "display_name": "Python [conda env:base] *",
   "language": "python",
   "name": "conda-base-py"
  },
  "language_info": {
   "codemirror_mode": {
    "name": "ipython",
    "version": 3
   },
   "file_extension": ".py",
   "mimetype": "text/x-python",
   "name": "python",
   "nbconvert_exporter": "python",
   "pygments_lexer": "ipython3",
   "version": "3.12.7"
  }
 },
 "nbformat": 4,
 "nbformat_minor": 5
}
