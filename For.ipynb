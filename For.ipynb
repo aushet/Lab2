{
 "cells": [
  {
   "cell_type": "markdown",
   "id": "21fb7ff2-04f7-4eb5-ad30-bcbe58400915",
   "metadata": {},
   "source": [
    "Example1"
   ]
  },
  {
   "cell_type": "code",
   "execution_count": 3,
   "id": "21fd88f9-8099-41de-91f8-d314ea8c7979",
   "metadata": {},
   "outputs": [
    {
     "name": "stdout",
     "output_type": "stream",
     "text": [
      "apple\n",
      "banana\n",
      "cherry\n"
     ]
    }
   ],
   "source": [
    "fruits = [\"apple\", \"banana\", \"cherry\"]\n",
    "for x in fruits:\n",
    "  print(x)"
   ]
  },
  {
   "cell_type": "markdown",
   "id": "01538c51-3593-4d11-80f5-6a830633de62",
   "metadata": {},
   "source": [
    "Example2"
   ]
  },
  {
   "cell_type": "code",
   "execution_count": 6,
   "id": "0571b68d-719a-4a46-8206-6a00e2a12452",
   "metadata": {},
   "outputs": [
    {
     "name": "stdout",
     "output_type": "stream",
     "text": [
      "b\n",
      "a\n",
      "n\n",
      "a\n",
      "n\n",
      "a\n"
     ]
    }
   ],
   "source": [
    "for x in \"banana\":\n",
    "  print(x)"
   ]
  },
  {
   "cell_type": "markdown",
   "id": "4ffc525e-2d70-4394-8ada-c4d63909698f",
   "metadata": {},
   "source": [
    "Example3"
   ]
  },
  {
   "cell_type": "code",
   "execution_count": 9,
   "id": "12262668-f820-48bb-8a8d-0340c2263374",
   "metadata": {},
   "outputs": [
    {
     "name": "stdout",
     "output_type": "stream",
     "text": [
      "apple\n",
      "banana\n"
     ]
    }
   ],
   "source": [
    "fruits = [\"apple\", \"banana\", \"cherry\"]\n",
    "for x in fruits:\n",
    "  print(x)\n",
    "  if x == \"banana\":\n",
    "    break"
   ]
  },
  {
   "cell_type": "markdown",
   "id": "79ac926f-4e2b-40ae-886c-009dddd2d618",
   "metadata": {},
   "source": [
    "Example4"
   ]
  },
  {
   "cell_type": "code",
   "execution_count": 12,
   "id": "f138227b-489f-4b69-87ee-a7a6b7265f9e",
   "metadata": {},
   "outputs": [
    {
     "name": "stdout",
     "output_type": "stream",
     "text": [
      "apple\n"
     ]
    }
   ],
   "source": [
    "fruits = [\"apple\", \"banana\", \"cherry\"]\n",
    "for x in fruits:\n",
    "  if x == \"banana\":\n",
    "    break\n",
    "  print(x)"
   ]
  },
  {
   "cell_type": "markdown",
   "id": "42af69ad-5cb4-4657-93ed-a8c7f04ea14c",
   "metadata": {},
   "source": [
    "Example5"
   ]
  },
  {
   "cell_type": "code",
   "execution_count": 15,
   "id": "e089283e-6efb-4f14-afcc-e4061e984bb0",
   "metadata": {},
   "outputs": [
    {
     "name": "stdout",
     "output_type": "stream",
     "text": [
      "apple\n",
      "cherry\n"
     ]
    }
   ],
   "source": [
    "fruits = [\"apple\", \"banana\", \"cherry\"]\n",
    "for x in fruits:\n",
    "  if x == \"banana\":\n",
    "    continue\n",
    "  print(x)"
   ]
  },
  {
   "cell_type": "markdown",
   "id": "4aa11366-acaa-435f-8283-740f4be1ce97",
   "metadata": {},
   "source": [
    "Example6"
   ]
  },
  {
   "cell_type": "code",
   "execution_count": 18,
   "id": "e6344c89-e5c8-4b09-91c0-7a171d311a0f",
   "metadata": {},
   "outputs": [
    {
     "name": "stdout",
     "output_type": "stream",
     "text": [
      "0\n",
      "1\n",
      "2\n",
      "3\n",
      "4\n",
      "5\n"
     ]
    }
   ],
   "source": [
    "for x in range(6):\n",
    "  print(x)"
   ]
  },
  {
   "cell_type": "markdown",
   "id": "1437a075-6ee9-44d1-bcbe-6a7013fc6ce2",
   "metadata": {},
   "source": [
    "Example7"
   ]
  },
  {
   "cell_type": "code",
   "execution_count": 21,
   "id": "8c9c9bb2-acbc-49c7-9be5-c63f9b8bf4d5",
   "metadata": {},
   "outputs": [
    {
     "name": "stdout",
     "output_type": "stream",
     "text": [
      "2\n",
      "3\n",
      "4\n",
      "5\n"
     ]
    }
   ],
   "source": [
    "for x in range(2, 6):\n",
    "  print(x)"
   ]
  },
  {
   "cell_type": "markdown",
   "id": "b8545bac-8fa4-4acc-a1f3-659497af2bd0",
   "metadata": {},
   "source": [
    "Example8"
   ]
  },
  {
   "cell_type": "code",
   "execution_count": 24,
   "id": "b3633b72-c688-4ebf-b3c7-371a22716df2",
   "metadata": {},
   "outputs": [
    {
     "name": "stdout",
     "output_type": "stream",
     "text": [
      "2\n",
      "5\n",
      "8\n",
      "11\n",
      "14\n",
      "17\n",
      "20\n",
      "23\n",
      "26\n",
      "29\n"
     ]
    }
   ],
   "source": [
    "for x in range(2, 30, 3):\n",
    "  print(x)"
   ]
  },
  {
   "cell_type": "markdown",
   "id": "21ca5871-8836-4c34-b590-ffe992740d27",
   "metadata": {},
   "source": [
    "Example9"
   ]
  },
  {
   "cell_type": "code",
   "execution_count": 29,
   "id": "c74b0cc4-7ec2-4191-a6d4-ea99ded29ce5",
   "metadata": {},
   "outputs": [
    {
     "name": "stdout",
     "output_type": "stream",
     "text": [
      "0\n",
      "1\n",
      "2\n",
      "3\n",
      "4\n",
      "5\n",
      "Finally finished!\n"
     ]
    }
   ],
   "source": [
    "for x in range(6):\n",
    "  print(x)\n",
    "else:\n",
    "  print(\"Finally finished!\")"
   ]
  },
  {
   "cell_type": "markdown",
   "id": "8c2a5989-6870-456f-a5ac-4b8133fd2c93",
   "metadata": {},
   "source": [
    "Example10"
   ]
  },
  {
   "cell_type": "code",
   "execution_count": 32,
   "id": "707a2eb4-71e4-49f1-bfdf-bf6179ae8fd5",
   "metadata": {},
   "outputs": [
    {
     "name": "stdout",
     "output_type": "stream",
     "text": [
      "0\n",
      "1\n",
      "2\n"
     ]
    }
   ],
   "source": [
    "for x in range(6):\n",
    "  if x == 3: break\n",
    "  print(x)\n",
    "else:\n",
    "  print(\"Finally finished!\")"
   ]
  },
  {
   "cell_type": "markdown",
   "id": "fafb0ca7-bc03-4dc2-b4cc-0f25afb44694",
   "metadata": {},
   "source": [
    "Example11"
   ]
  },
  {
   "cell_type": "code",
   "execution_count": 35,
   "id": "3dcab29f-a355-453f-a898-8ad3242d42d3",
   "metadata": {},
   "outputs": [
    {
     "name": "stdout",
     "output_type": "stream",
     "text": [
      "red apple\n",
      "red banana\n",
      "red cherry\n",
      "big apple\n",
      "big banana\n",
      "big cherry\n",
      "tasty apple\n",
      "tasty banana\n",
      "tasty cherry\n"
     ]
    }
   ],
   "source": [
    "adj = [\"red\", \"big\", \"tasty\"]\n",
    "fruits = [\"apple\", \"banana\", \"cherry\"]\n",
    "\n",
    "for x in adj:\n",
    "  for y in fruits:\n",
    "    print(x, y)"
   ]
  },
  {
   "cell_type": "markdown",
   "id": "148b52f0-fd2e-47bf-943a-abb9c1b47ff2",
   "metadata": {},
   "source": [
    "Example12"
   ]
  },
  {
   "cell_type": "code",
   "execution_count": null,
   "id": "cbacc857-18b2-4887-bd07-07a7c2a30b02",
   "metadata": {},
   "outputs": [],
   "source": []
  }
 ],
 "metadata": {
  "kernelspec": {
   "display_name": "Python [conda env:base] *",
   "language": "python",
   "name": "conda-base-py"
  },
  "language_info": {
   "codemirror_mode": {
    "name": "ipython",
    "version": 3
   },
   "file_extension": ".py",
   "mimetype": "text/x-python",
   "name": "python",
   "nbconvert_exporter": "python",
   "pygments_lexer": "ipython3",
   "version": "3.12.7"
  }
 },
 "nbformat": 4,
 "nbformat_minor": 5
}
