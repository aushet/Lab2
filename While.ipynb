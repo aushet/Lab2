{
 "cells": [
  {
   "cell_type": "code",
   "execution_count": null,
   "id": "8f156346-b83d-429b-80bc-8b28a2c2b82c",
   "metadata": {},
   "outputs": [],
   "source": []
  }
 ],
 "metadata": {
  "kernelspec": {
   "display_name": "",
   "name": ""
  },
  "language_info": {
   "name": ""
  }
 },
 "nbformat": 4,
 "nbformat_minor": 5
}
