{
 "cells": [
  {
   "cell_type": "markdown",
   "id": "6e1b09b1-555b-4cb7-a28c-2eaa6f53d825",
   "metadata": {},
   "source": [
    "Example1"
   ]
  },
  {
   "cell_type": "code",
   "execution_count": 3,
   "id": "e4ee50d4-ccf2-4e69-a7ea-b7a88be4059c",
   "metadata": {},
   "outputs": [
    {
     "name": "stdout",
     "output_type": "stream",
     "text": [
      "b is greater than a\n"
     ]
    }
   ],
   "source": [
    "a = 33\n",
    "b = 200\n",
    "if b > a:\n",
    "  print(\"b is greater than a\")\n"
   ]
  },
  {
   "cell_type": "markdown",
   "id": "aa839732-e122-405b-8c01-c9a42ce5f65c",
   "metadata": {},
   "source": [
    "Example2"
   ]
  },
  {
   "cell_type": "code",
   "execution_count": 6,
   "id": "a304c3df-e7c7-4bb1-b6cf-c4b13c6699f5",
   "metadata": {},
   "outputs": [
    {
     "ename": "IndentationError",
     "evalue": "expected an indented block after 'if' statement on line 3 (1443227691.py, line 4)",
     "output_type": "error",
     "traceback": [
      "\u001b[1;36m  Cell \u001b[1;32mIn[6], line 4\u001b[1;36m\u001b[0m\n\u001b[1;33m    print(\"b is greater than a\") # you will get an error\u001b[0m\n\u001b[1;37m    ^\u001b[0m\n\u001b[1;31mIndentationError\u001b[0m\u001b[1;31m:\u001b[0m expected an indented block after 'if' statement on line 3\n"
     ]
    }
   ],
   "source": [
    "a = 33\n",
    "b = 200\n",
    "if b > a:\n",
    "print(\"b is greater than a\") # you will get an error"
   ]
  },
  {
   "cell_type": "markdown",
   "id": "e2138b3d-e062-462d-ad39-d0c903c7da66",
   "metadata": {},
   "source": [
    "Example3"
   ]
  },
  {
   "cell_type": "code",
   "execution_count": 9,
   "id": "2d14f8fb-9978-4aec-bca9-9925cbf708df",
   "metadata": {},
   "outputs": [
    {
     "name": "stdout",
     "output_type": "stream",
     "text": [
      "a and b are equal\n"
     ]
    }
   ],
   "source": [
    "a = 33\n",
    "b = 33\n",
    "if b > a:\n",
    "  print(\"b is greater than a\")\n",
    "elif a == b:\n",
    "  print(\"a and b are equal\")"
   ]
  },
  {
   "cell_type": "markdown",
   "id": "7e8560a9-9ea2-4ee8-9957-2d19b7089e2a",
   "metadata": {},
   "source": [
    "Example4"
   ]
  },
  {
   "cell_type": "code",
   "execution_count": 12,
   "id": "80c8699d-9ebe-47a1-9e73-84e8e6b1df68",
   "metadata": {},
   "outputs": [
    {
     "name": "stdout",
     "output_type": "stream",
     "text": [
      "a is greater than b\n"
     ]
    }
   ],
   "source": [
    "a = 200\n",
    "b = 33\n",
    "if b > a:\n",
    "  print(\"b is greater than a\")\n",
    "elif a == b:\n",
    "  print(\"a and b are equal\")\n",
    "else:\n",
    "  print(\"a is greater than b\")"
   ]
  },
  {
   "cell_type": "markdown",
   "id": "c308d5eb-f6f2-422e-842e-2adfdc955673",
   "metadata": {},
   "source": [
    "Example5"
   ]
  },
  {
   "cell_type": "code",
   "execution_count": 15,
   "id": "6b9d30f3-ae81-4c75-9d5d-67ec1d833293",
   "metadata": {},
   "outputs": [
    {
     "name": "stdout",
     "output_type": "stream",
     "text": [
      "b is not greater than a\n"
     ]
    }
   ],
   "source": [
    "a = 200\n",
    "b = 33\n",
    "if b > a:\n",
    "  print(\"b is greater than a\")\n",
    "else:\n",
    "  print(\"b is not greater than a\")"
   ]
  },
  {
   "cell_type": "markdown",
   "id": "c75357a5-c4f7-43f8-bf3a-6e7e138b146c",
   "metadata": {},
   "source": [
    "Example6"
   ]
  },
  {
   "cell_type": "code",
   "execution_count": 18,
   "id": "0c92c5e9-279e-46fb-ba1b-18d20434929a",
   "metadata": {},
   "outputs": [
    {
     "name": "stdout",
     "output_type": "stream",
     "text": [
      "a is greater than b\n"
     ]
    }
   ],
   "source": [
    "if a > b: print(\"a is greater than b\")"
   ]
  },
  {
   "cell_type": "markdown",
   "id": "1d516ae4-c9a7-4510-90ab-bce2ef0163ba",
   "metadata": {},
   "source": [
    "Example7"
   ]
  },
  {
   "cell_type": "code",
   "execution_count": 21,
   "id": "8021954f-1bbe-45ee-9aed-366487ff3733",
   "metadata": {},
   "outputs": [
    {
     "name": "stdout",
     "output_type": "stream",
     "text": [
      "B\n"
     ]
    }
   ],
   "source": [
    "a = 2\n",
    "b = 330\n",
    "print(\"A\") if a > b else print(\"B\")"
   ]
  },
  {
   "cell_type": "markdown",
   "id": "add5f2fe-81ad-4494-9c0f-dbd2c99d6975",
   "metadata": {},
   "source": [
    "Example8"
   ]
  },
  {
   "cell_type": "code",
   "execution_count": 24,
   "id": "10d85dd2-8d84-45c8-92b2-0eda428407d5",
   "metadata": {},
   "outputs": [
    {
     "name": "stdout",
     "output_type": "stream",
     "text": [
      "=\n"
     ]
    }
   ],
   "source": [
    "a = 330\n",
    "b = 330\n",
    "print(\"A\") if a > b else print(\"=\") if a == b else print(\"B\")"
   ]
  },
  {
   "cell_type": "markdown",
   "id": "d165dbd6-203e-4d46-9c52-43d103d2e195",
   "metadata": {},
   "source": [
    "Example9"
   ]
  },
  {
   "cell_type": "code",
   "execution_count": 27,
   "id": "fb466753-a981-431f-a2cc-9e2d1f0d6eae",
   "metadata": {},
   "outputs": [
    {
     "name": "stdout",
     "output_type": "stream",
     "text": [
      "Both conditions are True\n"
     ]
    }
   ],
   "source": [
    "a = 200\n",
    "b = 33\n",
    "c = 500\n",
    "if a > b and c > a:\n",
    "  print(\"Both conditions are True\")"
   ]
  },
  {
   "cell_type": "markdown",
   "id": "3e069d36-cfc2-4a87-aff7-dd32d535fe74",
   "metadata": {},
   "source": [
    "Example10"
   ]
  },
  {
   "cell_type": "code",
   "execution_count": 30,
   "id": "0edd9a64-ca17-4d7a-9ba3-ba46a13ab18f",
   "metadata": {},
   "outputs": [
    {
     "name": "stdout",
     "output_type": "stream",
     "text": [
      "At least one of the conditions is True\n"
     ]
    }
   ],
   "source": [
    "a = 200\n",
    "b = 33\n",
    "c = 500\n",
    "if a > b or a > c:\n",
    "  print(\"At least one of the conditions is True\")"
   ]
  },
  {
   "cell_type": "markdown",
   "id": "94f00f4a-8f70-4207-9dc5-91c6842dda6b",
   "metadata": {},
   "source": [
    "Example11"
   ]
  },
  {
   "cell_type": "code",
   "execution_count": 33,
   "id": "6b76ef6d-d627-4cf0-a619-c1ba709c2e94",
   "metadata": {},
   "outputs": [
    {
     "name": "stdout",
     "output_type": "stream",
     "text": [
      "a is NOT greater than b\n"
     ]
    }
   ],
   "source": [
    "a = 33\n",
    "b = 200\n",
    "if not a > b:\n",
    "  print(\"a is NOT greater than b\")"
   ]
  },
  {
   "cell_type": "markdown",
   "id": "1329db33-5c35-4162-ad3e-8b4c7b57c0d4",
   "metadata": {},
   "source": [
    "Example12"
   ]
  },
  {
   "cell_type": "code",
   "execution_count": 36,
   "id": "97a0210a-83f9-4822-86ca-2b09f6304399",
   "metadata": {},
   "outputs": [
    {
     "name": "stdout",
     "output_type": "stream",
     "text": [
      "Above ten,\n",
      "and also above 20!\n"
     ]
    }
   ],
   "source": [
    "x = 41\n",
    "\n",
    "if x > 10:\n",
    "  print(\"Above ten,\")\n",
    "  if x > 20:\n",
    "    print(\"and also above 20!\")\n",
    "  else:\n",
    "    print(\"but not above 20.\")"
   ]
  },
  {
   "cell_type": "markdown",
   "id": "3713cb6a-1fec-4a90-a6a6-0f26fd0583e0",
   "metadata": {},
   "source": [
    "Example13"
   ]
  },
  {
   "cell_type": "code",
   "execution_count": 39,
   "id": "ff773259-4c18-4b0e-a166-79e14c52d50a",
   "metadata": {},
   "outputs": [],
   "source": [
    "a = 33\n",
    "b = 200\n",
    "\n",
    "if b > a:\n",
    "  pass"
   ]
  }
 ],
 "metadata": {
  "kernelspec": {
   "display_name": "Python [conda env:base] *",
   "language": "python",
   "name": "conda-base-py"
  },
  "language_info": {
   "codemirror_mode": {
    "name": "ipython",
    "version": 3
   },
   "file_extension": ".py",
   "mimetype": "text/x-python",
   "name": "python",
   "nbconvert_exporter": "python",
   "pygments_lexer": "ipython3",
   "version": "3.12.7"
  }
 },
 "nbformat": 4,
 "nbformat_minor": 5
}
