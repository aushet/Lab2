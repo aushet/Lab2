{
 "cells": [
  {
   "cell_type": "markdown",
   "id": "c1bfa6ce-9797-4e8e-8904-019eb361bfa4",
   "metadata": {},
   "source": [
    "Example1"
   ]
  },
  {
   "cell_type": "code",
   "execution_count": 2,
   "id": "b5582dc5-6a36-4cd0-a0b8-a446473b7613",
   "metadata": {},
   "outputs": [
    {
     "name": "stdout",
     "output_type": "stream",
     "text": [
      "('apple', 'banana', 'cherry')\n"
     ]
    }
   ],
   "source": [
    "thistuple = (\"apple\", \"banana\", \"cherry\")\n",
    "print(thistuple)"
   ]
  },
  {
   "cell_type": "markdown",
   "id": "f0cb4f4f-47bf-42ed-a6b1-4e49eccba7b3",
   "metadata": {},
   "source": [
    "Example2"
   ]
  },
  {
   "cell_type": "code",
   "execution_count": 3,
   "id": "1e05db11-0584-4558-a545-3b31bd25da41",
   "metadata": {},
   "outputs": [
    {
     "name": "stdout",
     "output_type": "stream",
     "text": [
      "('apple', 'banana', 'cherry', 'apple', 'cherry')\n"
     ]
    }
   ],
   "source": [
    "thistuple = (\"apple\", \"banana\", \"cherry\", \"apple\", \"cherry\")\n",
    "print(thistuple)"
   ]
  },
  {
   "cell_type": "markdown",
   "id": "99333270-c270-459e-a6c8-d4ed2f953e3b",
   "metadata": {},
   "source": [
    "Example3"
   ]
  },
  {
   "cell_type": "code",
   "execution_count": 6,
   "id": "61c3528f-484e-4ace-a0d8-700222c1b8f6",
   "metadata": {},
   "outputs": [
    {
     "name": "stdout",
     "output_type": "stream",
     "text": [
      "3\n"
     ]
    }
   ],
   "source": [
    "thistuple = (\"apple\", \"banana\", \"cherry\")\n",
    "print(len(thistuple))"
   ]
  },
  {
   "cell_type": "markdown",
   "id": "a8a83c31-9f2d-4a1e-8363-c3e2ca68d1d1",
   "metadata": {},
   "source": [
    "Example4"
   ]
  },
  {
   "cell_type": "code",
   "execution_count": 9,
   "id": "4e4b9517-a313-4a90-ad15-af0ab48d5ae3",
   "metadata": {},
   "outputs": [
    {
     "name": "stdout",
     "output_type": "stream",
     "text": [
      "<class 'tuple'>\n",
      "<class 'str'>\n"
     ]
    }
   ],
   "source": [
    "thistuple = (\"apple\",)\n",
    "print(type(thistuple))\n",
    "\n",
    "#NOT a tuple\n",
    "thistuple = (\"apple\")\n",
    "print(type(thistuple))"
   ]
  },
  {
   "cell_type": "markdown",
   "id": "3f612dc0-2218-4537-aca8-78be2d38e825",
   "metadata": {},
   "source": [
    "Example5"
   ]
  },
  {
   "cell_type": "code",
   "execution_count": 12,
   "id": "d8637f65-ab8d-46ea-84bf-064b5774f31c",
   "metadata": {},
   "outputs": [],
   "source": [
    "tuple1 = (\"apple\", \"banana\", \"cherry\")\n",
    "tuple2 = (1, 5, 7, 9, 3)\n",
    "tuple3 = (True, False, False)"
   ]
  },
  {
   "cell_type": "markdown",
   "id": "c41734a7-73e1-4d76-a4f0-2bf45a86111a",
   "metadata": {},
   "source": [
    "Example6"
   ]
  },
  {
   "cell_type": "code",
   "execution_count": 15,
   "id": "2d991209-a0bd-49fa-b0a2-6a0435015149",
   "metadata": {},
   "outputs": [],
   "source": [
    "tuple1 = (\"abc\", 34, True, 40, \"male\")"
   ]
  },
  {
   "cell_type": "markdown",
   "id": "2d980f3c-65f6-4862-8261-9fd1b886631b",
   "metadata": {},
   "source": [
    "Example7"
   ]
  },
  {
   "cell_type": "code",
   "execution_count": 18,
   "id": "0a922b2b-f845-45a7-bb93-f869f62c8db2",
   "metadata": {},
   "outputs": [
    {
     "name": "stdout",
     "output_type": "stream",
     "text": [
      "<class 'tuple'>\n"
     ]
    }
   ],
   "source": [
    "mytuple = (\"apple\", \"banana\", \"cherry\")\n",
    "print(type(mytuple))"
   ]
  },
  {
   "cell_type": "markdown",
   "id": "abc6f91e-d15c-4494-875d-e441476b8ad1",
   "metadata": {},
   "source": [
    "Example8"
   ]
  },
  {
   "cell_type": "code",
   "execution_count": 21,
   "id": "eae4ca01-c75b-44ec-b083-4e5abcaf0b39",
   "metadata": {},
   "outputs": [
    {
     "name": "stdout",
     "output_type": "stream",
     "text": [
      "('apple', 'banana', 'cherry')\n"
     ]
    }
   ],
   "source": [
    "thistuple = tuple((\"apple\", \"banana\", \"cherry\")) # note the double round-brackets\n",
    "print(thistuple)"
   ]
  },
  {
   "cell_type": "markdown",
   "id": "51dfd2bb-99f0-4001-8832-1d499203e9bc",
   "metadata": {},
   "source": [
    "Example9"
   ]
  },
  {
   "cell_type": "code",
   "execution_count": 24,
   "id": "17619a18-0823-4fa2-ada6-97da718a6cfe",
   "metadata": {},
   "outputs": [
    {
     "name": "stdout",
     "output_type": "stream",
     "text": [
      "cherry\n"
     ]
    }
   ],
   "source": [
    "thistuple = (\"apple\", \"banana\", \"cherry\")\n",
    "print(thistuple[-1])"
   ]
  },
  {
   "cell_type": "code",
   "execution_count": 26,
   "id": "5e7318f7-7fc6-4f60-b4ca-6771e1f1430c",
   "metadata": {},
   "outputs": [
    {
     "name": "stdout",
     "output_type": "stream",
     "text": [
      "('cherry', 'orange', 'kiwi')\n"
     ]
    }
   ],
   "source": [
    "thistuple = (\"apple\", \"banana\", \"cherry\", \"orange\", \"kiwi\", \"melon\", \"mango\")\n",
    "print(thistuple[2:5])"
   ]
  },
  {
   "cell_type": "markdown",
   "id": "fba35eac-144e-46d5-aeca-881e1adc3075",
   "metadata": {},
   "source": [
    "Example10"
   ]
  },
  {
   "cell_type": "code",
   "execution_count": 1,
   "id": "891d96ce-e278-443e-80df-2f642226c25d",
   "metadata": {},
   "outputs": [
    {
     "name": "stdout",
     "output_type": "stream",
     "text": [
      "('apple', 'banana', 'cherry', 'orange')\n"
     ]
    }
   ],
   "source": [
    "thistuple = (\"apple\", \"banana\", \"cherry\", \"orange\", \"kiwi\", \"melon\", \"mango\")\n",
    "print(thistuple[:4])"
   ]
  },
  {
   "cell_type": "markdown",
   "id": "f25b4804-9026-4e98-a4b1-f77c55697d3a",
   "metadata": {},
   "source": [
    "Example11"
   ]
  },
  {
   "cell_type": "code",
   "execution_count": 4,
   "id": "0be0a115-c583-4857-93e0-ffd6c58aad34",
   "metadata": {},
   "outputs": [
    {
     "name": "stdout",
     "output_type": "stream",
     "text": [
      "('cherry', 'orange', 'kiwi', 'melon', 'mango')\n"
     ]
    }
   ],
   "source": [
    "thistuple = (\"apple\", \"banana\", \"cherry\", \"orange\", \"kiwi\", \"melon\", \"mango\")\n",
    "print(thistuple[2:])"
   ]
  },
  {
   "cell_type": "markdown",
   "id": "86e75ccd-0673-4b40-8260-1127197ca097",
   "metadata": {},
   "source": [
    "Example12"
   ]
  },
  {
   "cell_type": "code",
   "execution_count": 7,
   "id": "0a5cf377-ddac-4187-b33a-adb502e6630c",
   "metadata": {},
   "outputs": [
    {
     "name": "stdout",
     "output_type": "stream",
     "text": [
      "('orange', 'kiwi', 'melon')\n"
     ]
    }
   ],
   "source": [
    "thistuple = (\"apple\", \"banana\", \"cherry\", \"orange\", \"kiwi\", \"melon\", \"mango\")\n",
    "print(thistuple[-4:-1])"
   ]
  },
  {
   "cell_type": "markdown",
   "id": "8083f53c-fe82-4604-8021-d867267f602c",
   "metadata": {},
   "source": [
    "Example13"
   ]
  },
  {
   "cell_type": "code",
   "execution_count": 10,
   "id": "c0ff3eee-1377-4488-908d-44c1958dc8eb",
   "metadata": {},
   "outputs": [
    {
     "name": "stdout",
     "output_type": "stream",
     "text": [
      "Yes, 'apple' is in the fruits tuple\n"
     ]
    }
   ],
   "source": [
    "thistuple = (\"apple\", \"banana\", \"cherry\")\n",
    "if \"apple\" in thistuple:\n",
    "  print(\"Yes, 'apple' is in the fruits tuple\")"
   ]
  },
  {
   "cell_type": "markdown",
   "id": "6fbbf54b-9bca-4a83-a7cb-8028dd3ffb76",
   "metadata": {},
   "source": [
    "Example14"
   ]
  },
  {
   "cell_type": "code",
   "execution_count": 13,
   "id": "69db1e7d-be14-4d9e-ae58-331998dc4312",
   "metadata": {},
   "outputs": [
    {
     "name": "stdout",
     "output_type": "stream",
     "text": [
      "('apple', 'kiwi', 'cherry')\n"
     ]
    }
   ],
   "source": [
    "x = (\"apple\", \"banana\", \"cherry\")\n",
    "y = list(x)\n",
    "y[1] = \"kiwi\"\n",
    "x = tuple(y)\n",
    "\n",
    "print(x)"
   ]
  },
  {
   "cell_type": "markdown",
   "id": "7cafd85b-4b22-4fdc-81a7-56ce7fee1c9e",
   "metadata": {},
   "source": [
    "Example15"
   ]
  },
  {
   "cell_type": "code",
   "execution_count": 16,
   "id": "ee4fb146-c25a-4e9e-a956-11ca93c4d72e",
   "metadata": {},
   "outputs": [],
   "source": [
    "thistuple = (\"apple\", \"banana\", \"cherry\")\n",
    "y = list(thistuple)\n",
    "y.append(\"orange\")\n",
    "thistuple = tuple(y)"
   ]
  },
  {
   "cell_type": "markdown",
   "id": "276f8043-21d6-4219-a767-0aa3947bd1c0",
   "metadata": {},
   "source": [
    "Example16"
   ]
  },
  {
   "cell_type": "code",
   "execution_count": 19,
   "id": "5a0cfce8-7fbc-4c07-a8d3-53c85b690f1e",
   "metadata": {},
   "outputs": [
    {
     "name": "stdout",
     "output_type": "stream",
     "text": [
      "('apple', 'banana', 'cherry', 'orange')\n"
     ]
    }
   ],
   "source": [
    "thistuple = (\"apple\", \"banana\", \"cherry\")\n",
    "y = (\"orange\",)\n",
    "thistuple += y\n",
    "\n",
    "print(thistuple)"
   ]
  },
  {
   "cell_type": "markdown",
   "id": "b88a2c7a-0581-4908-b6d5-60ba93ff5258",
   "metadata": {},
   "source": [
    "Example17"
   ]
  },
  {
   "cell_type": "code",
   "execution_count": 22,
   "id": "eb8d4964-db0f-41ad-91d9-e62078c658af",
   "metadata": {},
   "outputs": [],
   "source": [
    "thistuple = (\"apple\", \"banana\", \"cherry\")\n",
    "y = list(thistuple)\n",
    "y.remove(\"apple\")\n",
    "thistuple = tuple(y)"
   ]
  },
  {
   "cell_type": "markdown",
   "id": "202bd522-fadf-45c8-81b1-3fcf9785e81e",
   "metadata": {},
   "source": [
    "Example18"
   ]
  },
  {
   "cell_type": "code",
   "execution_count": 25,
   "id": "044dd5ed-7d81-4982-abd6-a438477a0b47",
   "metadata": {},
   "outputs": [
    {
     "ename": "NameError",
     "evalue": "name 'thistuple' is not defined",
     "output_type": "error",
     "traceback": [
      "\u001b[1;31m---------------------------------------------------------------------------\u001b[0m",
      "\u001b[1;31mNameError\u001b[0m                                 Traceback (most recent call last)",
      "Cell \u001b[1;32mIn[25], line 3\u001b[0m\n\u001b[0;32m      1\u001b[0m thistuple \u001b[38;5;241m=\u001b[39m (\u001b[38;5;124m\"\u001b[39m\u001b[38;5;124mapple\u001b[39m\u001b[38;5;124m\"\u001b[39m, \u001b[38;5;124m\"\u001b[39m\u001b[38;5;124mbanana\u001b[39m\u001b[38;5;124m\"\u001b[39m, \u001b[38;5;124m\"\u001b[39m\u001b[38;5;124mcherry\u001b[39m\u001b[38;5;124m\"\u001b[39m)\n\u001b[0;32m      2\u001b[0m \u001b[38;5;28;01mdel\u001b[39;00m thistuple\n\u001b[1;32m----> 3\u001b[0m \u001b[38;5;28mprint\u001b[39m(thistuple)\n",
      "\u001b[1;31mNameError\u001b[0m: name 'thistuple' is not defined"
     ]
    }
   ],
   "source": [
    "thistuple = (\"apple\", \"banana\", \"cherry\")\n",
    "del thistuple\n",
    "print(thistuple) #this will raise an error because the tuple no longer exists"
   ]
  },
  {
   "cell_type": "markdown",
   "id": "7d1bcba3-eacc-4d3f-9920-3b182669dd60",
   "metadata": {},
   "source": [
    "Example19"
   ]
  },
  {
   "cell_type": "code",
   "execution_count": 28,
   "id": "ea75649b-ba1a-438c-ae82-46fe3ece98e8",
   "metadata": {},
   "outputs": [],
   "source": [
    "fruits = (\"apple\", \"banana\", \"cherry\")"
   ]
  },
  {
   "cell_type": "markdown",
   "id": "57655fa8-4bdd-402e-b849-44f348cfbc24",
   "metadata": {},
   "source": [
    "Example20"
   ]
  },
  {
   "cell_type": "code",
   "execution_count": 31,
   "id": "85aa19c7-4aa8-47d2-8b28-356846afdb0d",
   "metadata": {},
   "outputs": [
    {
     "name": "stdout",
     "output_type": "stream",
     "text": [
      "apple\n",
      "banana\n",
      "cherry\n"
     ]
    }
   ],
   "source": [
    "fruits = (\"apple\", \"banana\", \"cherry\")\n",
    "\n",
    "(green, yellow, red) = fruits\n",
    "\n",
    "print(green)\n",
    "print(yellow)\n",
    "print(red)"
   ]
  },
  {
   "cell_type": "markdown",
   "id": "df4cab57-882a-43a0-812f-e8c76a4d42e9",
   "metadata": {},
   "source": [
    "Example21"
   ]
  },
  {
   "cell_type": "code",
   "execution_count": 34,
   "id": "0092cd58-561a-47f9-af2a-6ba412d64914",
   "metadata": {},
   "outputs": [
    {
     "name": "stdout",
     "output_type": "stream",
     "text": [
      "apple\n",
      "banana\n",
      "['cherry', 'strawberry', 'raspberry']\n"
     ]
    }
   ],
   "source": [
    "fruits = (\"apple\", \"banana\", \"cherry\", \"strawberry\", \"raspberry\")\n",
    "\n",
    "(green, yellow, *red) = fruits\n",
    "\n",
    "print(green)\n",
    "print(yellow)\n",
    "print(red)"
   ]
  },
  {
   "cell_type": "markdown",
   "id": "19e0c10c-5e7a-4041-98a5-5b30f58b49c9",
   "metadata": {},
   "source": [
    "Example22"
   ]
  },
  {
   "cell_type": "code",
   "execution_count": 37,
   "id": "2d0dc6f7-26e8-4479-8bc7-0d92de1ef7e5",
   "metadata": {},
   "outputs": [
    {
     "name": "stdout",
     "output_type": "stream",
     "text": [
      "apple\n",
      "['mango', 'papaya', 'pineapple']\n",
      "cherry\n"
     ]
    }
   ],
   "source": [
    "fruits = (\"apple\", \"mango\", \"papaya\", \"pineapple\", \"cherry\")\n",
    "\n",
    "(green, *tropic, red) = fruits\n",
    "\n",
    "print(green)\n",
    "print(tropic)\n",
    "print(red)"
   ]
  },
  {
   "cell_type": "markdown",
   "id": "279338a6-34f6-45c5-9ba5-5a9e0d40d885",
   "metadata": {},
   "source": [
    "Example23"
   ]
  },
  {
   "cell_type": "code",
   "execution_count": 40,
   "id": "ec941db8-9cc0-4a08-8a36-8f5c5ea5a1ea",
   "metadata": {},
   "outputs": [
    {
     "name": "stdout",
     "output_type": "stream",
     "text": [
      "apple\n",
      "banana\n",
      "cherry\n"
     ]
    }
   ],
   "source": [
    "thistuple = (\"apple\", \"banana\", \"cherry\")\n",
    "for x in thistuple:\n",
    "  print(x)"
   ]
  },
  {
   "cell_type": "markdown",
   "id": "6d809d53-0b7d-420f-bebc-92d28024aea5",
   "metadata": {},
   "source": [
    "Example24"
   ]
  },
  {
   "cell_type": "code",
   "execution_count": 43,
   "id": "2eb95406-8361-47e7-8c8f-5058b9e25cd9",
   "metadata": {},
   "outputs": [
    {
     "name": "stdout",
     "output_type": "stream",
     "text": [
      "apple\n",
      "banana\n",
      "cherry\n"
     ]
    }
   ],
   "source": [
    "thistuple = (\"apple\", \"banana\", \"cherry\")\n",
    "for i in range(len(thistuple)):\n",
    "  print(thistuple[i])"
   ]
  },
  {
   "cell_type": "markdown",
   "id": "65b49ade-ab33-4337-9d18-c186e50bdf7c",
   "metadata": {},
   "source": [
    "Example25"
   ]
  },
  {
   "cell_type": "code",
   "execution_count": 46,
   "id": "4dbfd6ed-edd8-4682-b59f-4d11eee07576",
   "metadata": {},
   "outputs": [
    {
     "name": "stdout",
     "output_type": "stream",
     "text": [
      "apple\n",
      "banana\n",
      "cherry\n"
     ]
    }
   ],
   "source": [
    "thistuple = (\"apple\", \"banana\", \"cherry\")\n",
    "i = 0\n",
    "while i < len(thistuple):\n",
    "  print(thistuple[i])\n",
    "  i = i + 1"
   ]
  },
  {
   "cell_type": "markdown",
   "id": "04bc5bb2-8e8a-4c3f-96f6-83bc6542e16c",
   "metadata": {},
   "source": [
    "Example26"
   ]
  },
  {
   "cell_type": "code",
   "execution_count": 49,
   "id": "c936c7a3-258d-42ae-b323-c78f314fee9a",
   "metadata": {},
   "outputs": [
    {
     "name": "stdout",
     "output_type": "stream",
     "text": [
      "('a', 'b', 'c', 1, 2, 3)\n"
     ]
    }
   ],
   "source": [
    "tuple1 = (\"a\", \"b\" , \"c\")\n",
    "tuple2 = (1, 2, 3)\n",
    "\n",
    "tuple3 = tuple1 + tuple2\n",
    "print(tuple3)"
   ]
  },
  {
   "cell_type": "markdown",
   "id": "f3904873-9688-4042-aec9-c97070a4069a",
   "metadata": {},
   "source": [
    "Example27"
   ]
  },
  {
   "cell_type": "code",
   "execution_count": 52,
   "id": "85b69fbc-8764-437d-b19c-0c3e342d7db6",
   "metadata": {},
   "outputs": [
    {
     "name": "stdout",
     "output_type": "stream",
     "text": [
      "('apple', 'banana', 'cherry', 'apple', 'banana', 'cherry')\n"
     ]
    }
   ],
   "source": [
    "fruits = (\"apple\", \"banana\", \"cherry\")\n",
    "mytuple = fruits * 2\n",
    "\n",
    "print(mytuple)"
   ]
  },
  {
   "cell_type": "markdown",
   "id": "44dfb0cf-6692-4ffc-8f4e-a028cea4a559",
   "metadata": {},
   "source": [
    "Example28"
   ]
  },
  {
   "cell_type": "code",
   "execution_count": null,
   "id": "087d1347-6073-4ba8-b300-ecee9f1a05ca",
   "metadata": {},
   "outputs": [],
   "source": []
  }
 ],
 "metadata": {
  "kernelspec": {
   "display_name": "Python [conda env:base] *",
   "language": "python",
   "name": "conda-base-py"
  },
  "language_info": {
   "codemirror_mode": {
    "name": "ipython",
    "version": 3
   },
   "file_extension": ".py",
   "mimetype": "text/x-python",
   "name": "python",
   "nbconvert_exporter": "python",
   "pygments_lexer": "ipython3",
   "version": "3.12.7"
  }
 },
 "nbformat": 4,
 "nbformat_minor": 5
}
