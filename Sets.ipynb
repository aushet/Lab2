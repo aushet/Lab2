{
 "cells": [
  {
   "cell_type": "markdown",
   "id": "3592ac9a-fae7-4348-9d50-d365bc1b2403",
   "metadata": {},
   "source": [
    "Example1"
   ]
  },
  {
   "cell_type": "code",
   "execution_count": 3,
   "id": "dc8a4168-df59-4589-be1c-fa927edf92cf",
   "metadata": {},
   "outputs": [
    {
     "name": "stdout",
     "output_type": "stream",
     "text": [
      "{'banana', 'cherry', 'apple'}\n"
     ]
    }
   ],
   "source": [
    "thisset = {\"apple\", \"banana\", \"cherry\"}\n",
    "print(thisset)"
   ]
  },
  {
   "cell_type": "markdown",
   "id": "9c28e0f0-1667-4c7f-a0c3-643b10d59d20",
   "metadata": {},
   "source": [
    "Example2"
   ]
  },
  {
   "cell_type": "code",
   "execution_count": 6,
   "id": "43a2dc34-1ab9-4147-86b1-677a3d12d1d1",
   "metadata": {},
   "outputs": [
    {
     "name": "stdout",
     "output_type": "stream",
     "text": [
      "{'banana', 'cherry', 'apple'}\n"
     ]
    }
   ],
   "source": [
    "thisset = {\"apple\", \"banana\", \"cherry\", \"apple\"}\n",
    "\n",
    "print(thisset)"
   ]
  },
  {
   "cell_type": "markdown",
   "id": "7fe21819-f323-445c-a005-3116eeec92c7",
   "metadata": {},
   "source": [
    "Example3"
   ]
  },
  {
   "cell_type": "code",
   "execution_count": 9,
   "id": "4f637752-b6a4-458a-b211-bf5c6541c255",
   "metadata": {},
   "outputs": [
    {
     "name": "stdout",
     "output_type": "stream",
     "text": [
      "{True, 2, 'banana', 'cherry', 'apple'}\n"
     ]
    }
   ],
   "source": [
    "thisset = {\"apple\", \"banana\", \"cherry\", True, 1, 2}\n",
    "\n",
    "print(thisset)"
   ]
  },
  {
   "cell_type": "markdown",
   "id": "570ba1e4-c4b7-4c6f-967e-5d0f97cfe93a",
   "metadata": {},
   "source": [
    "Example4"
   ]
  },
  {
   "cell_type": "code",
   "execution_count": 12,
   "id": "ff6d318a-34b3-4240-8968-b0180529f7d6",
   "metadata": {},
   "outputs": [
    {
     "name": "stdout",
     "output_type": "stream",
     "text": [
      "{False, True, 'banana', 'cherry', 'apple'}\n"
     ]
    }
   ],
   "source": [
    "thisset = {\"apple\", \"banana\", \"cherry\", False, True, 0}\n",
    "\n",
    "print(thisset)"
   ]
  },
  {
   "cell_type": "markdown",
   "id": "b097248a-ac3a-446a-b53d-798521cec18e",
   "metadata": {},
   "source": [
    "Example5"
   ]
  },
  {
   "cell_type": "code",
   "execution_count": 15,
   "id": "86da14b0-b6b2-4584-81d3-25e5a46ced01",
   "metadata": {},
   "outputs": [
    {
     "name": "stdout",
     "output_type": "stream",
     "text": [
      "3\n"
     ]
    }
   ],
   "source": [
    "thisset = {\"apple\", \"banana\", \"cherry\"}\n",
    "\n",
    "print(len(thisset))"
   ]
  },
  {
   "cell_type": "markdown",
   "id": "8ea2e32f-9cb8-4ffe-99ab-93d816027b08",
   "metadata": {},
   "source": [
    "Example6"
   ]
  },
  {
   "cell_type": "code",
   "execution_count": 18,
   "id": "82855115-2a68-4c17-8f85-3ca751700c1c",
   "metadata": {},
   "outputs": [],
   "source": [
    "set1 = {\"apple\", \"banana\", \"cherry\"}\n",
    "set2 = {1, 5, 7, 9, 3}\n",
    "set3 = {True, False, False}"
   ]
  },
  {
   "cell_type": "markdown",
   "id": "caae4efc-5929-411e-bf5b-b58479af0017",
   "metadata": {},
   "source": [
    "Example7"
   ]
  },
  {
   "cell_type": "code",
   "execution_count": 21,
   "id": "93114611-05a0-4100-b4a4-5d1c2e8c9acf",
   "metadata": {},
   "outputs": [],
   "source": [
    "set1 = {\"abc\", 34, True, 40, \"male\"}"
   ]
  },
  {
   "cell_type": "markdown",
   "id": "455bb179-9c60-435c-a8ab-0a47c39201ef",
   "metadata": {},
   "source": [
    "Example8"
   ]
  },
  {
   "cell_type": "code",
   "execution_count": 24,
   "id": "0255877c-b63f-4523-94d9-5a0ef30c274e",
   "metadata": {},
   "outputs": [
    {
     "name": "stdout",
     "output_type": "stream",
     "text": [
      "<class 'set'>\n"
     ]
    }
   ],
   "source": [
    "myset = {\"apple\", \"banana\", \"cherry\"}\n",
    "print(type(myset))"
   ]
  },
  {
   "cell_type": "markdown",
   "id": "122952ca-16ab-42bc-9523-9874b9bcfa04",
   "metadata": {},
   "source": [
    "Example9"
   ]
  },
  {
   "cell_type": "code",
   "execution_count": 27,
   "id": "4363d438-50fc-432d-96e8-293fc810c0f4",
   "metadata": {},
   "outputs": [
    {
     "name": "stdout",
     "output_type": "stream",
     "text": [
      "{'banana', 'cherry', 'apple'}\n"
     ]
    }
   ],
   "source": [
    "thisset = set((\"apple\", \"banana\", \"cherry\")) # note the double round-brackets\n",
    "print(thisset)"
   ]
  },
  {
   "cell_type": "markdown",
   "id": "20aebb1a-1d44-43fb-9c0b-34f212f3a465",
   "metadata": {},
   "source": [
    "Example10"
   ]
  },
  {
   "cell_type": "code",
   "execution_count": 30,
   "id": "ee0a7d34-cc2d-490f-b7e6-7315bb53d840",
   "metadata": {},
   "outputs": [
    {
     "name": "stdout",
     "output_type": "stream",
     "text": [
      "banana\n",
      "cherry\n",
      "apple\n"
     ]
    }
   ],
   "source": [
    "thisset = {\"apple\", \"banana\", \"cherry\"}\n",
    "\n",
    "for x in thisset:\n",
    "  print(x)"
   ]
  },
  {
   "cell_type": "markdown",
   "id": "53bb9741-9277-48a1-84dc-adf81c1e0c63",
   "metadata": {},
   "source": [
    "Example11"
   ]
  },
  {
   "cell_type": "code",
   "execution_count": 33,
   "id": "db41ff94-7052-4d59-b8dc-5c1e8e737773",
   "metadata": {},
   "outputs": [
    {
     "name": "stdout",
     "output_type": "stream",
     "text": [
      "True\n"
     ]
    }
   ],
   "source": [
    "thisset = {\"apple\", \"banana\", \"cherry\"}\n",
    "\n",
    "print(\"banana\" in thisset)"
   ]
  },
  {
   "cell_type": "markdown",
   "id": "4c953b5d-70a0-44f5-91d2-379b578c6bfa",
   "metadata": {},
   "source": [
    "Example12"
   ]
  },
  {
   "cell_type": "code",
   "execution_count": 36,
   "id": "e433a275-60dd-43ae-ba81-846d8babd612",
   "metadata": {},
   "outputs": [
    {
     "name": "stdout",
     "output_type": "stream",
     "text": [
      "False\n"
     ]
    }
   ],
   "source": [
    "thisset = {\"apple\", \"banana\", \"cherry\"}\n",
    "\n",
    "print(\"banana\" not in thisset)"
   ]
  },
  {
   "cell_type": "markdown",
   "id": "3a8bfe97-bd53-4f8e-b293-2059b9fb057a",
   "metadata": {},
   "source": [
    "Example13"
   ]
  },
  {
   "cell_type": "code",
   "execution_count": 39,
   "id": "561717a6-8b33-443e-91a0-5309eac18d72",
   "metadata": {},
   "outputs": [
    {
     "name": "stdout",
     "output_type": "stream",
     "text": [
      "{'orange', 'banana', 'cherry', 'apple'}\n"
     ]
    }
   ],
   "source": [
    "thisset = {\"apple\", \"banana\", \"cherry\"}\n",
    "\n",
    "thisset.add(\"orange\")\n",
    "\n",
    "print(thisset)"
   ]
  },
  {
   "cell_type": "markdown",
   "id": "4ad1001c-330d-4c26-8b85-dda2c479585d",
   "metadata": {},
   "source": [
    "Example14"
   ]
  },
  {
   "cell_type": "code",
   "execution_count": 42,
   "id": "6e90f134-f411-407c-9c7a-5d94762b9e34",
   "metadata": {},
   "outputs": [
    {
     "name": "stdout",
     "output_type": "stream",
     "text": [
      "{'mango', 'banana', 'pineapple', 'cherry', 'apple', 'papaya'}\n"
     ]
    }
   ],
   "source": [
    "thisset = {\"apple\", \"banana\", \"cherry\"}\n",
    "tropical = {\"pineapple\", \"mango\", \"papaya\"}\n",
    "\n",
    "thisset.update(tropical)\n",
    "\n",
    "print(thisset)"
   ]
  },
  {
   "cell_type": "markdown",
   "id": "b8d35744-b54d-489b-b355-358e9bd7af4b",
   "metadata": {},
   "source": [
    "Example15"
   ]
  },
  {
   "cell_type": "code",
   "execution_count": 45,
   "id": "c565a9b9-9335-4bb8-9fa5-89f9347588d8",
   "metadata": {},
   "outputs": [
    {
     "name": "stdout",
     "output_type": "stream",
     "text": [
      "{'banana', 'apple', 'cherry', 'kiwi', 'orange'}\n"
     ]
    }
   ],
   "source": [
    "thisset = {\"apple\", \"banana\", \"cherry\"}\n",
    "mylist = [\"kiwi\", \"orange\"]\n",
    "\n",
    "thisset.update(mylist)\n",
    "\n",
    "print(thisset)"
   ]
  },
  {
   "cell_type": "markdown",
   "id": "87cd0581-ae83-4f83-8540-3e68f1bc85ca",
   "metadata": {},
   "source": [
    "Example16"
   ]
  },
  {
   "cell_type": "code",
   "execution_count": 48,
   "id": "c59ecfaa-ddb8-4a6d-84e6-ee2f05a9ad4e",
   "metadata": {},
   "outputs": [
    {
     "name": "stdout",
     "output_type": "stream",
     "text": [
      "{'cherry', 'apple'}\n"
     ]
    }
   ],
   "source": [
    "thisset = {\"apple\", \"banana\", \"cherry\"}\n",
    "\n",
    "thisset.remove(\"banana\")\n",
    "\n",
    "print(thisset)"
   ]
  },
  {
   "cell_type": "markdown",
   "id": "14fe06fd-836e-499a-9742-4330c2890492",
   "metadata": {},
   "source": [
    "Example17"
   ]
  },
  {
   "cell_type": "code",
   "execution_count": 51,
   "id": "e491539f-4cca-4588-a5c2-941871a49a47",
   "metadata": {},
   "outputs": [
    {
     "name": "stdout",
     "output_type": "stream",
     "text": [
      "{'cherry', 'apple'}\n"
     ]
    }
   ],
   "source": [
    "thisset = {\"apple\", \"banana\", \"cherry\"}\n",
    "\n",
    "thisset.discard(\"banana\")\n",
    "\n",
    "print(thisset)"
   ]
  },
  {
   "cell_type": "markdown",
   "id": "d877d189-f5c6-46d5-bad2-a26ab8125e7b",
   "metadata": {},
   "source": [
    "Example18"
   ]
  },
  {
   "cell_type": "code",
   "execution_count": 54,
   "id": "0b4282e2-0d20-4654-99ed-2f3d66732c89",
   "metadata": {},
   "outputs": [
    {
     "name": "stdout",
     "output_type": "stream",
     "text": [
      "banana\n",
      "{'cherry', 'apple'}\n"
     ]
    }
   ],
   "source": [
    "thisset = {\"apple\", \"banana\", \"cherry\"}\n",
    "\n",
    "x = thisset.pop()\n",
    "\n",
    "print(x)\n",
    "\n",
    "print(thisset)"
   ]
  },
  {
   "cell_type": "markdown",
   "id": "aa61303d-d70e-45b7-884d-2d8636f27521",
   "metadata": {},
   "source": [
    "Example19"
   ]
  },
  {
   "cell_type": "code",
   "execution_count": 57,
   "id": "d4080148-a129-4ffb-b31e-a348fd99dd7b",
   "metadata": {},
   "outputs": [
    {
     "name": "stdout",
     "output_type": "stream",
     "text": [
      "set()\n"
     ]
    }
   ],
   "source": [
    "thisset = {\"apple\", \"banana\", \"cherry\"}\n",
    "\n",
    "thisset.clear()\n",
    "\n",
    "print(thisset)"
   ]
  },
  {
   "cell_type": "markdown",
   "id": "28a05cf8-63c4-4de9-b322-9fe1066e6544",
   "metadata": {},
   "source": [
    "Example20"
   ]
  },
  {
   "cell_type": "code",
   "execution_count": 60,
   "id": "de89b2b0-5c74-433b-8c07-cd8dbf7e7e51",
   "metadata": {},
   "outputs": [
    {
     "ename": "NameError",
     "evalue": "name 'thisset' is not defined",
     "output_type": "error",
     "traceback": [
      "\u001b[1;31m---------------------------------------------------------------------------\u001b[0m",
      "\u001b[1;31mNameError\u001b[0m                                 Traceback (most recent call last)",
      "Cell \u001b[1;32mIn[60], line 5\u001b[0m\n\u001b[0;32m      1\u001b[0m thisset \u001b[38;5;241m=\u001b[39m {\u001b[38;5;124m\"\u001b[39m\u001b[38;5;124mapple\u001b[39m\u001b[38;5;124m\"\u001b[39m, \u001b[38;5;124m\"\u001b[39m\u001b[38;5;124mbanana\u001b[39m\u001b[38;5;124m\"\u001b[39m, \u001b[38;5;124m\"\u001b[39m\u001b[38;5;124mcherry\u001b[39m\u001b[38;5;124m\"\u001b[39m}\n\u001b[0;32m      3\u001b[0m \u001b[38;5;28;01mdel\u001b[39;00m thisset\n\u001b[1;32m----> 5\u001b[0m \u001b[38;5;28mprint\u001b[39m(thisset)\n",
      "\u001b[1;31mNameError\u001b[0m: name 'thisset' is not defined"
     ]
    }
   ],
   "source": [
    "thisset = {\"apple\", \"banana\", \"cherry\"}\n",
    "\n",
    "del thisset\n",
    "\n",
    "print(thisset)"
   ]
  },
  {
   "cell_type": "markdown",
   "id": "093a3d11-77b1-4d9d-b7e2-c0b641f41a72",
   "metadata": {},
   "source": [
    "Example21"
   ]
  },
  {
   "cell_type": "code",
   "execution_count": 63,
   "id": "9e9b0aee-d7c5-43ea-86be-a03910120822",
   "metadata": {},
   "outputs": [
    {
     "name": "stdout",
     "output_type": "stream",
     "text": [
      "banana\n",
      "cherry\n",
      "apple\n"
     ]
    }
   ],
   "source": [
    "thisset = {\"apple\", \"banana\", \"cherry\"}\n",
    "\n",
    "for x in thisset:\n",
    "  print(x)"
   ]
  },
  {
   "cell_type": "markdown",
   "id": "02cc1ee5-e707-4f6d-83e2-b71c17640ab6",
   "metadata": {},
   "source": [
    "Example22"
   ]
  },
  {
   "cell_type": "code",
   "execution_count": 66,
   "id": "72aad1a5-7e67-4687-93cc-2df6769d4e8d",
   "metadata": {},
   "outputs": [
    {
     "name": "stdout",
     "output_type": "stream",
     "text": [
      "{1, 2, 'c', 'a', 3, 'b'}\n"
     ]
    }
   ],
   "source": [
    "set1 = {\"a\", \"b\", \"c\"}\n",
    "set2 = {1, 2, 3}\n",
    "\n",
    "set3 = set1.union(set2)\n",
    "print(set3)"
   ]
  },
  {
   "cell_type": "markdown",
   "id": "c47917f2-92a9-4914-b910-695dc54ce52d",
   "metadata": {},
   "source": [
    "Example23"
   ]
  },
  {
   "cell_type": "code",
   "execution_count": 69,
   "id": "7c0ebcad-d6e0-4678-8dd6-0f565e805643",
   "metadata": {},
   "outputs": [
    {
     "name": "stdout",
     "output_type": "stream",
     "text": [
      "{1, 2, 'c', 'a', 3, 'b'}\n"
     ]
    }
   ],
   "source": [
    "set1 = {\"a\", \"b\", \"c\"}\n",
    "set2 = {1, 2, 3}\n",
    "\n",
    "set3 = set1 | set2\n",
    "print(set3)"
   ]
  },
  {
   "cell_type": "markdown",
   "id": "2f6fddb1-79f2-4e48-acff-b6f99ded6959",
   "metadata": {},
   "source": [
    "Example24"
   ]
  },
  {
   "cell_type": "code",
   "execution_count": 72,
   "id": "7853c5f7-8df6-4d5f-927f-997872254b93",
   "metadata": {},
   "outputs": [
    {
     "name": "stdout",
     "output_type": "stream",
     "text": [
      "{1, 2, 3, 'a', 'Elena', 'apple', 'c', 'John', 'cherry', 'bananas', 'b'}\n"
     ]
    }
   ],
   "source": [
    "set1 = {\"a\", \"b\", \"c\"}\n",
    "set2 = {1, 2, 3}\n",
    "set3 = {\"John\", \"Elena\"}\n",
    "set4 = {\"apple\", \"bananas\", \"cherry\"}\n",
    "\n",
    "myset = set1.union(set2, set3, set4)\n",
    "print(myset)"
   ]
  },
  {
   "cell_type": "markdown",
   "id": "beee7965-2465-4397-ba93-21b723b30da7",
   "metadata": {},
   "source": [
    "Example25"
   ]
  },
  {
   "cell_type": "code",
   "execution_count": 75,
   "id": "fc0d637f-cef6-432a-8e5e-16fc9e5682fc",
   "metadata": {},
   "outputs": [
    {
     "name": "stdout",
     "output_type": "stream",
     "text": [
      "{1, 2, 3, 'a', 'Elena', 'apple', 'c', 'John', 'cherry', 'bananas', 'b'}\n"
     ]
    }
   ],
   "source": [
    "set1 = {\"a\", \"b\", \"c\"}\n",
    "set2 = {1, 2, 3}\n",
    "set3 = {\"John\", \"Elena\"}\n",
    "set4 = {\"apple\", \"bananas\", \"cherry\"}\n",
    "\n",
    "myset = set1 | set2 | set3 |set4\n",
    "print(myset)"
   ]
  },
  {
   "cell_type": "markdown",
   "id": "69249c55-1d6d-40b8-8e76-9170895cdb3d",
   "metadata": {},
   "source": [
    "Example26"
   ]
  },
  {
   "cell_type": "code",
   "execution_count": 78,
   "id": "70aa7622-4706-45c9-9941-e7349c14c875",
   "metadata": {},
   "outputs": [
    {
     "name": "stdout",
     "output_type": "stream",
     "text": [
      "{1, 2, 3, 'a', 'c', 'b'}\n"
     ]
    }
   ],
   "source": [
    "x = {\"a\", \"b\", \"c\"}\n",
    "y = (1, 2, 3)\n",
    "\n",
    "z = x.union(y)\n",
    "print(z)"
   ]
  },
  {
   "cell_type": "markdown",
   "id": "7d40823a-ab61-48c2-b3c7-4b9e7651395b",
   "metadata": {},
   "source": [
    "Example27"
   ]
  },
  {
   "cell_type": "code",
   "execution_count": 81,
   "id": "281d1952-4e5b-4d61-b0c8-59fe05d97dbd",
   "metadata": {},
   "outputs": [
    {
     "name": "stdout",
     "output_type": "stream",
     "text": [
      "{1, 2, 'c', 'a', 3, 'b'}\n"
     ]
    }
   ],
   "source": [
    "set1 = {\"a\", \"b\" , \"c\"}\n",
    "set2 = {1, 2, 3}\n",
    "\n",
    "set1.update(set2)\n",
    "print(set1)"
   ]
  },
  {
   "cell_type": "markdown",
   "id": "30d772eb-41de-4c12-bd72-d28a6e149df2",
   "metadata": {},
   "source": [
    "Example28"
   ]
  },
  {
   "cell_type": "code",
   "execution_count": 84,
   "id": "2a4e5ff6-4e4b-45a5-bdb6-145d1cd0feed",
   "metadata": {},
   "outputs": [
    {
     "name": "stdout",
     "output_type": "stream",
     "text": [
      "{'apple'}\n"
     ]
    }
   ],
   "source": [
    "set1 = {\"apple\", \"banana\", \"cherry\"}\n",
    "set2 = {\"google\", \"microsoft\", \"apple\"}\n",
    "\n",
    "set3 = set1.intersection(set2)\n",
    "print(set3)"
   ]
  },
  {
   "cell_type": "markdown",
   "id": "e535aa94-664b-490b-9079-3cb520dda61a",
   "metadata": {},
   "source": [
    "Example29"
   ]
  },
  {
   "cell_type": "code",
   "execution_count": 87,
   "id": "02669d34-a8e3-429a-acef-6afb217c4aaa",
   "metadata": {},
   "outputs": [
    {
     "name": "stdout",
     "output_type": "stream",
     "text": [
      "{'apple'}\n"
     ]
    }
   ],
   "source": [
    "set1 = {\"apple\", \"banana\", \"cherry\"}\n",
    "set2 = {\"google\", \"microsoft\", \"apple\"}\n",
    "\n",
    "set3 = set1 & set2\n",
    "print(set3)"
   ]
  },
  {
   "cell_type": "markdown",
   "id": "6205a6dd-1a14-4091-ad2a-a5f845419d91",
   "metadata": {},
   "source": [
    "Example30"
   ]
  },
  {
   "cell_type": "code",
   "execution_count": 90,
   "id": "8cd20bf4-7578-4164-a55c-17279e0a518d",
   "metadata": {},
   "outputs": [
    {
     "name": "stdout",
     "output_type": "stream",
     "text": [
      "{'apple'}\n"
     ]
    }
   ],
   "source": [
    "set1 = {\"apple\", \"banana\", \"cherry\"}\n",
    "set2 = {\"google\", \"microsoft\", \"apple\"}\n",
    "\n",
    "set1.intersection_update(set2)\n",
    "\n",
    "print(set1)"
   ]
  },
  {
   "cell_type": "markdown",
   "id": "3bdcc77c-1f89-49cc-b695-fd9808030e0f",
   "metadata": {},
   "source": [
    "Example31"
   ]
  },
  {
   "cell_type": "code",
   "execution_count": 93,
   "id": "afa6d191-1901-4366-831d-9f29542a02b2",
   "metadata": {},
   "outputs": [
    {
     "name": "stdout",
     "output_type": "stream",
     "text": [
      "{False, 1, 'apple'}\n"
     ]
    }
   ],
   "source": [
    "set1 = {\"apple\", 1,  \"banana\", 0, \"cherry\"}\n",
    "set2 = {False, \"google\", 1, \"apple\", 2, True}\n",
    "\n",
    "set3 = set1.intersection(set2)\n",
    "\n",
    "print(set3)"
   ]
  },
  {
   "cell_type": "markdown",
   "id": "3edfbf0c-2bd6-4843-8cb2-913cbfec9040",
   "metadata": {},
   "source": [
    "Example32"
   ]
  },
  {
   "cell_type": "code",
   "execution_count": 96,
   "id": "bbbd3125-f579-486b-bf5d-a36b26f6686a",
   "metadata": {},
   "outputs": [
    {
     "name": "stdout",
     "output_type": "stream",
     "text": [
      "{'banana', 'cherry'}\n"
     ]
    }
   ],
   "source": [
    "set1 = {\"apple\", \"banana\", \"cherry\"}\n",
    "set2 = {\"google\", \"microsoft\", \"apple\"}\n",
    "\n",
    "set3 = set1.difference(set2)\n",
    "\n",
    "print(set3)"
   ]
  },
  {
   "cell_type": "markdown",
   "id": "6418e4e2-b479-4c89-978a-234cf7f6bfcd",
   "metadata": {},
   "source": [
    "Example33"
   ]
  },
  {
   "cell_type": "code",
   "execution_count": 99,
   "id": "e49d8114-fd2a-4020-8415-4f273f7281d7",
   "metadata": {},
   "outputs": [
    {
     "name": "stdout",
     "output_type": "stream",
     "text": [
      "{'banana', 'cherry'}\n"
     ]
    }
   ],
   "source": [
    "set1 = {\"apple\", \"banana\", \"cherry\"}\n",
    "set2 = {\"google\", \"microsoft\", \"apple\"}\n",
    "\n",
    "set3 = set1 - set2\n",
    "print(set3)"
   ]
  },
  {
   "cell_type": "markdown",
   "id": "b9ccb6d1-d9b1-4b28-b9da-eaec283369b3",
   "metadata": {},
   "source": [
    "Example34"
   ]
  },
  {
   "cell_type": "code",
   "execution_count": 102,
   "id": "41266511-7c46-4e3a-8087-7fd843ce42b9",
   "metadata": {},
   "outputs": [
    {
     "name": "stdout",
     "output_type": "stream",
     "text": [
      "{'banana', 'cherry'}\n"
     ]
    }
   ],
   "source": [
    "set1 = {\"apple\", \"banana\", \"cherry\"}\n",
    "set2 = {\"google\", \"microsoft\", \"apple\"}\n",
    "\n",
    "set1.difference_update(set2)\n",
    "\n",
    "print(set1)"
   ]
  },
  {
   "cell_type": "markdown",
   "id": "72257b67-e99b-45b2-88a9-1ad766233910",
   "metadata": {},
   "source": [
    "Example35"
   ]
  },
  {
   "cell_type": "code",
   "execution_count": 105,
   "id": "c07542f9-ed87-4e45-906b-b91e3bcfe5b1",
   "metadata": {},
   "outputs": [
    {
     "name": "stdout",
     "output_type": "stream",
     "text": [
      "{'google', 'banana', 'microsoft', 'cherry'}\n"
     ]
    }
   ],
   "source": [
    "set1 = {\"apple\", \"banana\", \"cherry\"}\n",
    "set2 = {\"google\", \"microsoft\", \"apple\"}\n",
    "\n",
    "set3 = set1.symmetric_difference(set2)\n",
    "\n",
    "print(set3)"
   ]
  },
  {
   "cell_type": "markdown",
   "id": "613fd660-868e-422f-921f-d876be644c50",
   "metadata": {},
   "source": [
    "Example36"
   ]
  },
  {
   "cell_type": "code",
   "execution_count": 108,
   "id": "1dd1a5c9-0b09-4752-9696-77e54e9eb9c5",
   "metadata": {},
   "outputs": [
    {
     "name": "stdout",
     "output_type": "stream",
     "text": [
      "{'google', 'banana', 'microsoft', 'cherry'}\n"
     ]
    }
   ],
   "source": [
    "set1 = {\"apple\", \"banana\", \"cherry\"}\n",
    "set2 = {\"google\", \"microsoft\", \"apple\"}\n",
    "\n",
    "set3 = set1 ^ set2\n",
    "print(set3)"
   ]
  },
  {
   "cell_type": "markdown",
   "id": "cfb8c7e5-cd21-40b1-ab18-b363454a3c33",
   "metadata": {},
   "source": [
    "Example37"
   ]
  },
  {
   "cell_type": "code",
   "execution_count": 111,
   "id": "3dd499c9-7aae-453f-8231-800ff199248c",
   "metadata": {},
   "outputs": [
    {
     "name": "stdout",
     "output_type": "stream",
     "text": [
      "{'google', 'banana', 'microsoft', 'cherry'}\n"
     ]
    }
   ],
   "source": [
    "set1 = {\"apple\", \"banana\", \"cherry\"}\n",
    "set2 = {\"google\", \"microsoft\", \"apple\"}\n",
    "\n",
    "set1.symmetric_difference_update(set2)\n",
    "\n",
    "print(set1)"
   ]
  },
  {
   "cell_type": "code",
   "execution_count": null,
   "id": "55d63df2-70cb-458f-b2ee-3314b4b4cd14",
   "metadata": {},
   "outputs": [],
   "source": []
  }
 ],
 "metadata": {
  "kernelspec": {
   "display_name": "Python [conda env:base] *",
   "language": "python",
   "name": "conda-base-py"
  },
  "language_info": {
   "codemirror_mode": {
    "name": "ipython",
    "version": 3
   },
   "file_extension": ".py",
   "mimetype": "text/x-python",
   "name": "python",
   "nbconvert_exporter": "python",
   "pygments_lexer": "ipython3",
   "version": "3.12.7"
  }
 },
 "nbformat": 4,
 "nbformat_minor": 5
}
